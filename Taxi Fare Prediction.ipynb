{
 "cells": [
  {
   "cell_type": "markdown",
   "metadata": {},
   "source": [
    "#     **Taxi Fare Price Prediction**"
   ]
  },
  {
   "cell_type": "markdown",
   "metadata": {
    "id": "EP6tRTqXVdCw"
   },
   "source": [
    "## Data Discription's\n",
    "\n",
    "**unique_id**: Unique identifier or key for each record in the dataset - (string)    \n",
    "\n",
    "**date_time_of_pickup**: time when the ride started - (timestamp)\n",
    "\n",
    "**longitude_of_pickup**: Longitude of the taxi ride pickup point - (float) - (Numerical) \n",
    " \n",
    "**latitude_of_pickup**: Latitude of the taxi ride pickup point - (float) - (Numerical)\n",
    "    \n",
    "**longitude__of_dropoff**: Longitude of the taxi ride dropoff point  - (float) - (Numerical)\n",
    "    \n",
    "**latitude_of_dropoff**: Latitude of the taxi ride dropoff point - (float) - (Numerical)\n",
    "    \n",
    "**no_of_passenger**: count of the passengers during the ride - (integer) - (Numerical)\n",
    "    \n",
    "**amount**: (target variable)dollar amount of the cost of the taxi ride\n",
    "   "
   ]
  },
  {
   "cell_type": "markdown",
   "metadata": {
    "id": "HTeIHSZNVdC3"
   },
   "source": [
    "# Import Libraries"
   ]
  },
  {
   "cell_type": "code",
   "execution_count": 112,
   "metadata": {
    "collapsed": true,
    "executionInfo": {
     "elapsed": 970,
     "status": "ok",
     "timestamp": 1629528711687,
     "user": {
      "displayName": "Arunkumar Nair",
      "photoUrl": "https://lh3.googleusercontent.com/a-/AOh14GjgmWFCgJdcKJSRtC8oAFcB4vcjJSWC9JIuSLTgGQ=s64",
      "userId": "14175196440623772817"
     },
     "user_tz": -330
    },
    "id": "npuKZJ3aVdC9"
   },
   "outputs": [],
   "source": [
    "from warnings import filterwarnings\n",
    "filterwarnings('ignore')\n",
    "import os\n",
    "import pandas as pd \n",
    "import numpy as np\n",
    "import matplotlib.pyplot as plt\n",
    "%matplotlib inline\n",
    "import seaborn as sns\n",
    "from math import radians, cos, sin, sqrt, asin\n",
    "from sklearn.model_selection import train_test_split\n",
    "from sklearn import metrics\n",
    "from sklearn import preprocessing\n",
    "from sklearn.model_selection import GridSearchCV\n",
    "from sklearn.ensemble import RandomForestRegressor"
   ]
  },
  {
   "cell_type": "code",
   "execution_count": 113,
   "metadata": {
    "collapsed": true,
    "executionInfo": {
     "elapsed": 24,
     "status": "ok",
     "timestamp": 1629528712639,
     "user": {
      "displayName": "Arunkumar Nair",
      "photoUrl": "https://lh3.googleusercontent.com/a-/AOh14GjgmWFCgJdcKJSRtC8oAFcB4vcjJSWC9JIuSLTgGQ=s64",
      "userId": "14175196440623772817"
     },
     "user_tz": -330
    },
    "id": "QmAWGhEzVdDB"
   },
   "outputs": [],
   "source": [
    "plt.rcParams['figure.figsize'] = [15,8]"
   ]
  },
  {
   "cell_type": "markdown",
   "metadata": {
    "id": "_zGK-0nzVdDH"
   },
   "source": [
    "# Set Options"
   ]
  },
  {
   "cell_type": "code",
   "execution_count": 114,
   "metadata": {
    "collapsed": true,
    "executionInfo": {
     "elapsed": 24,
     "status": "ok",
     "timestamp": 1629528712640,
     "user": {
      "displayName": "Arunkumar Nair",
      "photoUrl": "https://lh3.googleusercontent.com/a-/AOh14GjgmWFCgJdcKJSRtC8oAFcB4vcjJSWC9JIuSLTgGQ=s64",
      "userId": "14175196440623772817"
     },
     "user_tz": -330
    },
    "id": "5kZ04QwaVdDJ"
   },
   "outputs": [],
   "source": [
    "pd.options.display.max_columns = None\n",
    "pd.options.display.max_rows = None\n",
    "pd.options.display.float_format = '{:.6f}'.format"
   ]
  },
  {
   "cell_type": "markdown",
   "metadata": {
    "id": "P4U5RgtLVdDK"
   },
   "source": [
    "# Read Data"
   ]
  },
  {
   "cell_type": "markdown",
   "metadata": {
    "id": "Ykn60Os6VdDL"
   },
   "source": [
    "<table align=\"left\">\n",
    "    <tr>\n",
    "        <td width=\"8%\">\n",
    "            <img src=\"todo.png\">\n",
    "        </td>\n",
    "        <td>\n",
    "            <div align=\"left\", style=\"font-size:120%\">\n",
    "                <font color=\"#21618C\">\n",
    "                    <b>Read and display data to get insights from the data.\n",
    "                    </b> \n",
    "                </font>\n",
    "            </div>\n",
    "        </td>\n",
    "    </tr>\n",
    "</table>"
   ]
  },
  {
   "cell_type": "code",
   "execution_count": 116,
   "metadata": {
    "colab": {
     "base_uri": "https://localhost:8080/",
     "height": 206
    },
    "executionInfo": {
     "elapsed": 22,
     "status": "ok",
     "timestamp": 1629528712643,
     "user": {
      "displayName": "Arunkumar Nair",
      "photoUrl": "https://lh3.googleusercontent.com/a-/AOh14GjgmWFCgJdcKJSRtC8oAFcB4vcjJSWC9JIuSLTgGQ=s64",
      "userId": "14175196440623772817"
     },
     "user_tz": -330
    },
    "id": "hEYLcq69VdDM",
    "outputId": "7838f0f0-2842-455b-d16e-fd2aaeb266c2"
   },
   "outputs": [
    {
     "data": {
      "text/html": [
       "<div>\n",
       "<style scoped>\n",
       "    .dataframe tbody tr th:only-of-type {\n",
       "        vertical-align: middle;\n",
       "    }\n",
       "\n",
       "    .dataframe tbody tr th {\n",
       "        vertical-align: top;\n",
       "    }\n",
       "\n",
       "    .dataframe thead th {\n",
       "        text-align: right;\n",
       "    }\n",
       "</style>\n",
       "<table border=\"1\" class=\"dataframe\">\n",
       "  <thead>\n",
       "    <tr style=\"text-align: right;\">\n",
       "      <th></th>\n",
       "      <th>unique_id</th>\n",
       "      <th>amount</th>\n",
       "      <th>date_time_of_pickup</th>\n",
       "      <th>longitude_of_pickup</th>\n",
       "      <th>latitude_of_pickup</th>\n",
       "      <th>longitude_of_dropoff</th>\n",
       "      <th>latitude_of_dropoff</th>\n",
       "      <th>no_of_passenger</th>\n",
       "    </tr>\n",
       "  </thead>\n",
       "  <tbody>\n",
       "    <tr>\n",
       "      <th>0</th>\n",
       "      <td>26:21.0</td>\n",
       "      <td>4.500000</td>\n",
       "      <td>2009-06-15 17:26:21 UTC</td>\n",
       "      <td>-73.844311</td>\n",
       "      <td>40.721319</td>\n",
       "      <td>-73.841610</td>\n",
       "      <td>40.712278</td>\n",
       "      <td>1</td>\n",
       "    </tr>\n",
       "    <tr>\n",
       "      <th>1</th>\n",
       "      <td>52:16.0</td>\n",
       "      <td>16.900000</td>\n",
       "      <td>2010-01-05 16:52:16 UTC</td>\n",
       "      <td>-74.016048</td>\n",
       "      <td>40.711303</td>\n",
       "      <td>-73.979268</td>\n",
       "      <td>40.782004</td>\n",
       "      <td>1</td>\n",
       "    </tr>\n",
       "    <tr>\n",
       "      <th>2</th>\n",
       "      <td>35:00.0</td>\n",
       "      <td>5.700000</td>\n",
       "      <td>2011-08-18 00:35:00 UTC</td>\n",
       "      <td>-73.982738</td>\n",
       "      <td>40.761270</td>\n",
       "      <td>-73.991242</td>\n",
       "      <td>40.750562</td>\n",
       "      <td>2</td>\n",
       "    </tr>\n",
       "    <tr>\n",
       "      <th>3</th>\n",
       "      <td>30:42.0</td>\n",
       "      <td>7.700000</td>\n",
       "      <td>2012-04-21 04:30:42 UTC</td>\n",
       "      <td>-73.987130</td>\n",
       "      <td>40.733143</td>\n",
       "      <td>-73.991567</td>\n",
       "      <td>40.758092</td>\n",
       "      <td>1</td>\n",
       "    </tr>\n",
       "    <tr>\n",
       "      <th>4</th>\n",
       "      <td>51:00.0</td>\n",
       "      <td>5.300000</td>\n",
       "      <td>2010-03-09 07:51:00 UTC</td>\n",
       "      <td>-73.968095</td>\n",
       "      <td>40.768008</td>\n",
       "      <td>-73.956655</td>\n",
       "      <td>40.783762</td>\n",
       "      <td>1</td>\n",
       "    </tr>\n",
       "  </tbody>\n",
       "</table>\n",
       "</div>"
      ],
      "text/plain": [
       "  unique_id    amount      date_time_of_pickup  longitude_of_pickup  \\\n",
       "0   26:21.0  4.500000  2009-06-15 17:26:21 UTC           -73.844311   \n",
       "1   52:16.0 16.900000  2010-01-05 16:52:16 UTC           -74.016048   \n",
       "2   35:00.0  5.700000  2011-08-18 00:35:00 UTC           -73.982738   \n",
       "3   30:42.0  7.700000  2012-04-21 04:30:42 UTC           -73.987130   \n",
       "4   51:00.0  5.300000  2010-03-09 07:51:00 UTC           -73.968095   \n",
       "\n",
       "   latitude_of_pickup  longitude_of_dropoff  latitude_of_dropoff  \\\n",
       "0           40.721319            -73.841610            40.712278   \n",
       "1           40.711303            -73.979268            40.782004   \n",
       "2           40.761270            -73.991242            40.750562   \n",
       "3           40.733143            -73.991567            40.758092   \n",
       "4           40.768008            -73.956655            40.783762   \n",
       "\n",
       "   no_of_passenger  \n",
       "0                1  \n",
       "1                1  \n",
       "2                2  \n",
       "3                1  \n",
       "4                1  "
      ]
     },
     "execution_count": 116,
     "metadata": {},
     "output_type": "execute_result"
    }
   ],
   "source": [
    "df_taxi = pd.read_csv('TaxiFare.csv')\n",
    "df_taxi.head()"
   ]
  },
  {
   "cell_type": "code",
   "execution_count": 117,
   "metadata": {
    "collapsed": true,
    "executionInfo": {
     "elapsed": 21,
     "status": "ok",
     "timestamp": 1629528712644,
     "user": {
      "displayName": "Arunkumar Nair",
      "photoUrl": "https://lh3.googleusercontent.com/a-/AOh14GjgmWFCgJdcKJSRtC8oAFcB4vcjJSWC9JIuSLTgGQ=s64",
      "userId": "14175196440623772817"
     },
     "user_tz": -330
    },
    "id": "WTO2Uy9GVdDP"
   },
   "outputs": [],
   "source": [
    "df_taxi = df_taxi.drop('unique_id', axis = 1)"
   ]
  },
  {
   "cell_type": "markdown",
   "metadata": {
    "id": "CJPclYR_VdDP"
   },
   "source": [
    "# Prepare and Analyze the Data"
   ]
  },
  {
   "cell_type": "markdown",
   "metadata": {
    "id": "CpBEpIUHVdDR"
   },
   "source": [
    "<a id='Data_Understanding'></a>\n",
    "## 4.1 Understand the Data"
   ]
  },
  {
   "cell_type": "code",
   "execution_count": 118,
   "metadata": {
    "colab": {
     "base_uri": "https://localhost:8080/"
    },
    "executionInfo": {
     "elapsed": 21,
     "status": "ok",
     "timestamp": 1629528712644,
     "user": {
      "displayName": "Arunkumar Nair",
      "photoUrl": "https://lh3.googleusercontent.com/a-/AOh14GjgmWFCgJdcKJSRtC8oAFcB4vcjJSWC9JIuSLTgGQ=s64",
      "userId": "14175196440623772817"
     },
     "user_tz": -330
    },
    "id": "iAfCHRc8VdDS",
    "outputId": "6dc1e0e4-3e8a-4996-e8c2-490c18ccc9c1"
   },
   "outputs": [
    {
     "data": {
      "text/plain": [
       "(50000, 7)"
      ]
     },
     "execution_count": 118,
     "metadata": {},
     "output_type": "execute_result"
    }
   ],
   "source": [
    "df_taxi.shape"
   ]
  },
  {
   "cell_type": "markdown",
   "metadata": {
    "id": "-x8Tn0EtVdDT"
   },
   "source": [
    "the dataframe has 7 columns and 50000 rows."
   ]
  },
  {
   "cell_type": "code",
   "execution_count": 119,
   "metadata": {
    "colab": {
     "base_uri": "https://localhost:8080/"
    },
    "executionInfo": {
     "elapsed": 17,
     "status": "ok",
     "timestamp": 1629528712645,
     "user": {
      "displayName": "Arunkumar Nair",
      "photoUrl": "https://lh3.googleusercontent.com/a-/AOh14GjgmWFCgJdcKJSRtC8oAFcB4vcjJSWC9JIuSLTgGQ=s64",
      "userId": "14175196440623772817"
     },
     "user_tz": -330
    },
    "id": "aHgU8NzPVdDX",
    "outputId": "d30df236-5f51-4772-8638-6ccd1394782e"
   },
   "outputs": [
    {
     "data": {
      "text/plain": [
       "amount                  float64\n",
       "date_time_of_pickup      object\n",
       "longitude_of_pickup     float64\n",
       "latitude_of_pickup      float64\n",
       "longitude_of_dropoff    float64\n",
       "latitude_of_dropoff     float64\n",
       "no_of_passenger           int64\n",
       "dtype: object"
      ]
     },
     "execution_count": 119,
     "metadata": {},
     "output_type": "execute_result"
    }
   ],
   "source": [
    "df_taxi.dtypes"
   ]
  },
  {
   "cell_type": "markdown",
   "metadata": {
    "id": "pjvEd-lhVdDZ"
   },
   "source": [
    "Change the incorrect data type"
   ]
  },
  {
   "cell_type": "code",
   "execution_count": 120,
   "metadata": {
    "collapsed": true,
    "executionInfo": {
     "elapsed": 5765,
     "status": "ok",
     "timestamp": 1629528718397,
     "user": {
      "displayName": "Arunkumar Nair",
      "photoUrl": "https://lh3.googleusercontent.com/a-/AOh14GjgmWFCgJdcKJSRtC8oAFcB4vcjJSWC9JIuSLTgGQ=s64",
      "userId": "14175196440623772817"
     },
     "user_tz": -330
    },
    "id": "BB0iVzypVdDZ"
   },
   "outputs": [],
   "source": [
    "df_taxi.date_time_of_pickup = pd.to_datetime(df_taxi.date_time_of_pickup, errors='coerce')"
   ]
  },
  {
   "cell_type": "markdown",
   "metadata": {
    "id": "pi1glnGaVdDa"
   },
   "source": [
    "Recheck the data type after the conversion"
   ]
  },
  {
   "cell_type": "code",
   "execution_count": 121,
   "metadata": {
    "colab": {
     "base_uri": "https://localhost:8080/"
    },
    "executionInfo": {
     "elapsed": 32,
     "status": "ok",
     "timestamp": 1629528718406,
     "user": {
      "displayName": "Arunkumar Nair",
      "photoUrl": "https://lh3.googleusercontent.com/a-/AOh14GjgmWFCgJdcKJSRtC8oAFcB4vcjJSWC9JIuSLTgGQ=s64",
      "userId": "14175196440623772817"
     },
     "user_tz": -330
    },
    "id": "2Dgr_uo8VdDa",
    "outputId": "6fe4a00a-29af-4cc5-f3bc-8bff68d89b66"
   },
   "outputs": [
    {
     "data": {
      "text/plain": [
       "amount                              float64\n",
       "date_time_of_pickup     datetime64[ns, UTC]\n",
       "longitude_of_pickup                 float64\n",
       "latitude_of_pickup                  float64\n",
       "longitude_of_dropoff                float64\n",
       "latitude_of_dropoff                 float64\n",
       "no_of_passenger                       int64\n",
       "dtype: object"
      ]
     },
     "execution_count": 121,
     "metadata": {},
     "output_type": "execute_result"
    }
   ],
   "source": [
    "df_taxi.dtypes"
   ]
  },
  {
   "cell_type": "markdown",
   "metadata": {
    "id": "sFJTkwgCVdDc"
   },
   "source": [
    "### Feature Engineering\n",
    "We will extract date time features from the variable 'date_time_of_pickup'."
   ]
  },
  {
   "cell_type": "code",
   "execution_count": 122,
   "metadata": {
    "collapsed": true,
    "executionInfo": {
     "elapsed": 30,
     "status": "ok",
     "timestamp": 1629528718407,
     "user": {
      "displayName": "Arunkumar Nair",
      "photoUrl": "https://lh3.googleusercontent.com/a-/AOh14GjgmWFCgJdcKJSRtC8oAFcB4vcjJSWC9JIuSLTgGQ=s64",
      "userId": "14175196440623772817"
     },
     "user_tz": -330
    },
    "id": "gqY8R6dLVdDe"
   },
   "outputs": [],
   "source": [
    "# extract various date time components as seperate variables\n",
    "df_taxi = df_taxi.assign(hour = df_taxi.date_time_of_pickup.dt.hour, \n",
    "                         day = df_taxi.date_time_of_pickup.dt.day,\n",
    "                        month = df_taxi.date_time_of_pickup.dt.month, \n",
    "                        year = df_taxi.date_time_of_pickup.dt.year, \n",
    "                        dayofweek = df_taxi.date_time_of_pickup.dt.dayofweek)"
   ]
  },
  {
   "cell_type": "markdown",
   "metadata": {
    "id": "8ottc9v4VdDf"
   },
   "source": [
    "We will add a new variable which measures the distance between the pickup and dropoff point. We will use the Haversine formula to compute the distance between two points of the journey, using the logitude and latitude values. "
   ]
  },
  {
   "cell_type": "code",
   "execution_count": 123,
   "metadata": {
    "collapsed": true,
    "executionInfo": {
     "elapsed": 31,
     "status": "ok",
     "timestamp": 1629528718408,
     "user": {
      "displayName": "Arunkumar Nair",
      "photoUrl": "https://lh3.googleusercontent.com/a-/AOh14GjgmWFCgJdcKJSRtC8oAFcB4vcjJSWC9JIuSLTgGQ=s64",
      "userId": "14175196440623772817"
     },
     "user_tz": -330
    },
    "id": "m8ygvklGVdDg"
   },
   "outputs": [],
   "source": [
    "# function to calculate the travel distance from the longitudes and latitudes\n",
    "def distance_transform(longitude1, latitude1, longitude2, latitude2):\n",
    "    travel_dist = []\n",
    "    \n",
    "    for pos in range(len(longitude1)):\n",
    "        long1,lati1,long2,lati2 = map(radians,[longitude1[pos],latitude1[pos],longitude2[pos],latitude2[pos]])\n",
    "        dist_long = long2 - long1\n",
    "        dist_lati = lati2 - lati1\n",
    "        a = sin(dist_lati/2)**2 + cos(lati1) * cos(lati2) * sin(dist_long/2)**2\n",
    "        c = 2 * asin(sqrt(a))*6371\n",
    "        travel_dist.append(c)\n",
    "       \n",
    "    return travel_dist"
   ]
  },
  {
   "cell_type": "code",
   "execution_count": 124,
   "metadata": {
    "collapsed": true,
    "executionInfo": {
     "elapsed": 31,
     "status": "ok",
     "timestamp": 1629528718409,
     "user": {
      "displayName": "Arunkumar Nair",
      "photoUrl": "https://lh3.googleusercontent.com/a-/AOh14GjgmWFCgJdcKJSRtC8oAFcB4vcjJSWC9JIuSLTgGQ=s64",
      "userId": "14175196440623772817"
     },
     "user_tz": -330
    },
    "id": "oTxqRD2JVdDg"
   },
   "outputs": [],
   "source": [
    "#new variable travel distance\n",
    "\n",
    "df_taxi['travel_dist_km'] = distance_transform(df_taxi['longitude_of_pickup'].to_numpy(),\n",
    "                                                df_taxi['latitude_of_pickup'].to_numpy(),\n",
    "                                                df_taxi['longitude_of_dropoff'].to_numpy(),\n",
    "                                                df_taxi['latitude_of_dropoff'].to_numpy()\n",
    "                                              )"
   ]
  },
  {
   "cell_type": "code",
   "execution_count": 125,
   "metadata": {
    "colab": {
     "base_uri": "https://localhost:8080/",
     "height": 313
    },
    "executionInfo": {
     "elapsed": 32,
     "status": "ok",
     "timestamp": 1629528718410,
     "user": {
      "displayName": "Arunkumar Nair",
      "photoUrl": "https://lh3.googleusercontent.com/a-/AOh14GjgmWFCgJdcKJSRtC8oAFcB4vcjJSWC9JIuSLTgGQ=s64",
      "userId": "14175196440623772817"
     },
     "user_tz": -330
    },
    "id": "99sv6MASVdDh",
    "outputId": "d9feb41a-0c93-49f8-f29e-717abd37e6ca",
    "scrolled": true
   },
   "outputs": [
    {
     "data": {
      "text/html": [
       "<div>\n",
       "<style scoped>\n",
       "    .dataframe tbody tr th:only-of-type {\n",
       "        vertical-align: middle;\n",
       "    }\n",
       "\n",
       "    .dataframe tbody tr th {\n",
       "        vertical-align: top;\n",
       "    }\n",
       "\n",
       "    .dataframe thead th {\n",
       "        text-align: right;\n",
       "    }\n",
       "</style>\n",
       "<table border=\"1\" class=\"dataframe\">\n",
       "  <thead>\n",
       "    <tr style=\"text-align: right;\">\n",
       "      <th></th>\n",
       "      <th>amount</th>\n",
       "      <th>date_time_of_pickup</th>\n",
       "      <th>longitude_of_pickup</th>\n",
       "      <th>latitude_of_pickup</th>\n",
       "      <th>longitude_of_dropoff</th>\n",
       "      <th>latitude_of_dropoff</th>\n",
       "      <th>no_of_passenger</th>\n",
       "      <th>hour</th>\n",
       "      <th>day</th>\n",
       "      <th>month</th>\n",
       "      <th>year</th>\n",
       "      <th>dayofweek</th>\n",
       "      <th>travel_dist_km</th>\n",
       "    </tr>\n",
       "  </thead>\n",
       "  <tbody>\n",
       "    <tr>\n",
       "      <th>0</th>\n",
       "      <td>4.500000</td>\n",
       "      <td>2009-06-15 17:26:21+00:00</td>\n",
       "      <td>-73.844311</td>\n",
       "      <td>40.721319</td>\n",
       "      <td>-73.841610</td>\n",
       "      <td>40.712278</td>\n",
       "      <td>1</td>\n",
       "      <td>17</td>\n",
       "      <td>15</td>\n",
       "      <td>6</td>\n",
       "      <td>2009</td>\n",
       "      <td>0</td>\n",
       "      <td>1.030764</td>\n",
       "    </tr>\n",
       "    <tr>\n",
       "      <th>1</th>\n",
       "      <td>16.900000</td>\n",
       "      <td>2010-01-05 16:52:16+00:00</td>\n",
       "      <td>-74.016048</td>\n",
       "      <td>40.711303</td>\n",
       "      <td>-73.979268</td>\n",
       "      <td>40.782004</td>\n",
       "      <td>1</td>\n",
       "      <td>16</td>\n",
       "      <td>5</td>\n",
       "      <td>1</td>\n",
       "      <td>2010</td>\n",
       "      <td>1</td>\n",
       "      <td>8.450134</td>\n",
       "    </tr>\n",
       "    <tr>\n",
       "      <th>2</th>\n",
       "      <td>5.700000</td>\n",
       "      <td>2011-08-18 00:35:00+00:00</td>\n",
       "      <td>-73.982738</td>\n",
       "      <td>40.761270</td>\n",
       "      <td>-73.991242</td>\n",
       "      <td>40.750562</td>\n",
       "      <td>2</td>\n",
       "      <td>0</td>\n",
       "      <td>18</td>\n",
       "      <td>8</td>\n",
       "      <td>2011</td>\n",
       "      <td>3</td>\n",
       "      <td>1.389525</td>\n",
       "    </tr>\n",
       "    <tr>\n",
       "      <th>3</th>\n",
       "      <td>7.700000</td>\n",
       "      <td>2012-04-21 04:30:42+00:00</td>\n",
       "      <td>-73.987130</td>\n",
       "      <td>40.733143</td>\n",
       "      <td>-73.991567</td>\n",
       "      <td>40.758092</td>\n",
       "      <td>1</td>\n",
       "      <td>4</td>\n",
       "      <td>21</td>\n",
       "      <td>4</td>\n",
       "      <td>2012</td>\n",
       "      <td>5</td>\n",
       "      <td>2.799270</td>\n",
       "    </tr>\n",
       "    <tr>\n",
       "      <th>4</th>\n",
       "      <td>5.300000</td>\n",
       "      <td>2010-03-09 07:51:00+00:00</td>\n",
       "      <td>-73.968095</td>\n",
       "      <td>40.768008</td>\n",
       "      <td>-73.956655</td>\n",
       "      <td>40.783762</td>\n",
       "      <td>1</td>\n",
       "      <td>7</td>\n",
       "      <td>9</td>\n",
       "      <td>3</td>\n",
       "      <td>2010</td>\n",
       "      <td>1</td>\n",
       "      <td>1.999157</td>\n",
       "    </tr>\n",
       "  </tbody>\n",
       "</table>\n",
       "</div>"
      ],
      "text/plain": [
       "     amount       date_time_of_pickup  longitude_of_pickup  \\\n",
       "0  4.500000 2009-06-15 17:26:21+00:00           -73.844311   \n",
       "1 16.900000 2010-01-05 16:52:16+00:00           -74.016048   \n",
       "2  5.700000 2011-08-18 00:35:00+00:00           -73.982738   \n",
       "3  7.700000 2012-04-21 04:30:42+00:00           -73.987130   \n",
       "4  5.300000 2010-03-09 07:51:00+00:00           -73.968095   \n",
       "\n",
       "   latitude_of_pickup  longitude_of_dropoff  latitude_of_dropoff  \\\n",
       "0           40.721319            -73.841610            40.712278   \n",
       "1           40.711303            -73.979268            40.782004   \n",
       "2           40.761270            -73.991242            40.750562   \n",
       "3           40.733143            -73.991567            40.758092   \n",
       "4           40.768008            -73.956655            40.783762   \n",
       "\n",
       "   no_of_passenger  hour  day  month  year  dayofweek  travel_dist_km  \n",
       "0                1    17   15      6  2009          0        1.030764  \n",
       "1                1    16    5      1  2010          1        8.450134  \n",
       "2                2     0   18      8  2011          3        1.389525  \n",
       "3                1     4   21      4  2012          5        2.799270  \n",
       "4                1     7    9      3  2010          1        1.999157  "
      ]
     },
     "execution_count": 125,
     "metadata": {},
     "output_type": "execute_result"
    }
   ],
   "source": [
    "#newly added vaiarbles\n",
    "df_taxi.head(5)"
   ]
  },
  {
   "cell_type": "markdown",
   "metadata": {
    "id": "IrXG5VD6VdDi"
   },
   "source": [
    "Drop the redundant variable."
   ]
  },
  {
   "cell_type": "code",
   "execution_count": 126,
   "metadata": {
    "collapsed": true,
    "executionInfo": {
     "elapsed": 31,
     "status": "ok",
     "timestamp": 1629528718411,
     "user": {
      "displayName": "Arunkumar Nair",
      "photoUrl": "https://lh3.googleusercontent.com/a-/AOh14GjgmWFCgJdcKJSRtC8oAFcB4vcjJSWC9JIuSLTgGQ=s64",
      "userId": "14175196440623772817"
     },
     "user_tz": -330
    },
    "id": "OxlDY--HVdDj"
   },
   "outputs": [],
   "source": [
    "df_taxi = df_taxi.drop('date_time_of_pickup',axis=1)"
   ]
  },
  {
   "cell_type": "code",
   "execution_count": 127,
   "metadata": {
    "colab": {
     "base_uri": "https://localhost:8080/"
    },
    "executionInfo": {
     "elapsed": 31,
     "status": "ok",
     "timestamp": 1629528718411,
     "user": {
      "displayName": "Arunkumar Nair",
      "photoUrl": "https://lh3.googleusercontent.com/a-/AOh14GjgmWFCgJdcKJSRtC8oAFcB4vcjJSWC9JIuSLTgGQ=s64",
      "userId": "14175196440623772817"
     },
     "user_tz": -330
    },
    "id": "1lEW9dCmVdDj",
    "outputId": "db754302-8af7-4672-f34c-5970557cbd22"
   },
   "outputs": [
    {
     "name": "stdout",
     "output_type": "stream",
     "text": [
      "<class 'pandas.core.frame.DataFrame'>\n",
      "RangeIndex: 50000 entries, 0 to 49999\n",
      "Data columns (total 12 columns):\n",
      " #   Column                Non-Null Count  Dtype  \n",
      "---  ------                --------------  -----  \n",
      " 0   amount                50000 non-null  float64\n",
      " 1   longitude_of_pickup   50000 non-null  float64\n",
      " 2   latitude_of_pickup    50000 non-null  float64\n",
      " 3   longitude_of_dropoff  50000 non-null  float64\n",
      " 4   latitude_of_dropoff   50000 non-null  float64\n",
      " 5   no_of_passenger       50000 non-null  int64  \n",
      " 6   hour                  50000 non-null  int64  \n",
      " 7   day                   50000 non-null  int64  \n",
      " 8   month                 50000 non-null  int64  \n",
      " 9   year                  50000 non-null  int64  \n",
      " 10  dayofweek             50000 non-null  int64  \n",
      " 11  travel_dist_km        50000 non-null  float64\n",
      "dtypes: float64(6), int64(6)\n",
      "memory usage: 4.6 MB\n"
     ]
    }
   ],
   "source": [
    "df_taxi.info()"
   ]
  },
  {
   "cell_type": "markdown",
   "metadata": {
    "id": "PI25spEpVdDk"
   },
   "source": [
    "As now have the required features, after having extracted new ones and dropping the redundant variables."
   ]
  },
  {
   "cell_type": "markdown",
   "metadata": {
    "id": "ww-tunAxVdDl"
   },
   "source": [
    "For numerical variables, use the describe"
   ]
  },
  {
   "cell_type": "code",
   "execution_count": 128,
   "metadata": {
    "colab": {
     "base_uri": "https://localhost:8080/",
     "height": 425
    },
    "executionInfo": {
     "elapsed": 27,
     "status": "ok",
     "timestamp": 1629528718412,
     "user": {
      "displayName": "Arunkumar Nair",
      "photoUrl": "https://lh3.googleusercontent.com/a-/AOh14GjgmWFCgJdcKJSRtC8oAFcB4vcjJSWC9JIuSLTgGQ=s64",
      "userId": "14175196440623772817"
     },
     "user_tz": -330
    },
    "id": "J5kTi6RHVdDl",
    "outputId": "2d9b792d-b171-4355-a44f-1afccace16a3"
   },
   "outputs": [
    {
     "data": {
      "text/html": [
       "<div>\n",
       "<style scoped>\n",
       "    .dataframe tbody tr th:only-of-type {\n",
       "        vertical-align: middle;\n",
       "    }\n",
       "\n",
       "    .dataframe tbody tr th {\n",
       "        vertical-align: top;\n",
       "    }\n",
       "\n",
       "    .dataframe thead th {\n",
       "        text-align: right;\n",
       "    }\n",
       "</style>\n",
       "<table border=\"1\" class=\"dataframe\">\n",
       "  <thead>\n",
       "    <tr style=\"text-align: right;\">\n",
       "      <th></th>\n",
       "      <th>count</th>\n",
       "      <th>mean</th>\n",
       "      <th>std</th>\n",
       "      <th>min</th>\n",
       "      <th>25%</th>\n",
       "      <th>50%</th>\n",
       "      <th>75%</th>\n",
       "      <th>max</th>\n",
       "    </tr>\n",
       "  </thead>\n",
       "  <tbody>\n",
       "    <tr>\n",
       "      <th>amount</th>\n",
       "      <td>50000.000000</td>\n",
       "      <td>11.364171</td>\n",
       "      <td>9.685557</td>\n",
       "      <td>-5.000000</td>\n",
       "      <td>6.000000</td>\n",
       "      <td>8.500000</td>\n",
       "      <td>12.500000</td>\n",
       "      <td>200.000000</td>\n",
       "    </tr>\n",
       "    <tr>\n",
       "      <th>longitude_of_pickup</th>\n",
       "      <td>50000.000000</td>\n",
       "      <td>-72.509756</td>\n",
       "      <td>10.393860</td>\n",
       "      <td>-75.423848</td>\n",
       "      <td>-73.992062</td>\n",
       "      <td>-73.981840</td>\n",
       "      <td>-73.967148</td>\n",
       "      <td>40.783472</td>\n",
       "    </tr>\n",
       "    <tr>\n",
       "      <th>latitude_of_pickup</th>\n",
       "      <td>50000.000000</td>\n",
       "      <td>39.933759</td>\n",
       "      <td>6.224857</td>\n",
       "      <td>-74.006893</td>\n",
       "      <td>40.734880</td>\n",
       "      <td>40.752678</td>\n",
       "      <td>40.767360</td>\n",
       "      <td>401.083332</td>\n",
       "    </tr>\n",
       "    <tr>\n",
       "      <th>longitude_of_dropoff</th>\n",
       "      <td>50000.000000</td>\n",
       "      <td>-72.504616</td>\n",
       "      <td>10.407570</td>\n",
       "      <td>-84.654241</td>\n",
       "      <td>-73.991152</td>\n",
       "      <td>-73.980082</td>\n",
       "      <td>-73.963584</td>\n",
       "      <td>40.851027</td>\n",
       "    </tr>\n",
       "    <tr>\n",
       "      <th>latitude_of_dropoff</th>\n",
       "      <td>50000.000000</td>\n",
       "      <td>39.926251</td>\n",
       "      <td>6.014737</td>\n",
       "      <td>-74.006377</td>\n",
       "      <td>40.734371</td>\n",
       "      <td>40.753372</td>\n",
       "      <td>40.768167</td>\n",
       "      <td>43.415190</td>\n",
       "    </tr>\n",
       "    <tr>\n",
       "      <th>no_of_passenger</th>\n",
       "      <td>50000.000000</td>\n",
       "      <td>1.667840</td>\n",
       "      <td>1.289195</td>\n",
       "      <td>0.000000</td>\n",
       "      <td>1.000000</td>\n",
       "      <td>1.000000</td>\n",
       "      <td>2.000000</td>\n",
       "      <td>6.000000</td>\n",
       "    </tr>\n",
       "    <tr>\n",
       "      <th>hour</th>\n",
       "      <td>50000.000000</td>\n",
       "      <td>13.489080</td>\n",
       "      <td>6.506935</td>\n",
       "      <td>0.000000</td>\n",
       "      <td>9.000000</td>\n",
       "      <td>14.000000</td>\n",
       "      <td>19.000000</td>\n",
       "      <td>23.000000</td>\n",
       "    </tr>\n",
       "    <tr>\n",
       "      <th>day</th>\n",
       "      <td>50000.000000</td>\n",
       "      <td>15.672040</td>\n",
       "      <td>8.660789</td>\n",
       "      <td>1.000000</td>\n",
       "      <td>8.000000</td>\n",
       "      <td>16.000000</td>\n",
       "      <td>23.000000</td>\n",
       "      <td>31.000000</td>\n",
       "    </tr>\n",
       "    <tr>\n",
       "      <th>month</th>\n",
       "      <td>50000.000000</td>\n",
       "      <td>6.273300</td>\n",
       "      <td>3.461157</td>\n",
       "      <td>1.000000</td>\n",
       "      <td>3.000000</td>\n",
       "      <td>6.000000</td>\n",
       "      <td>9.000000</td>\n",
       "      <td>12.000000</td>\n",
       "    </tr>\n",
       "    <tr>\n",
       "      <th>year</th>\n",
       "      <td>50000.000000</td>\n",
       "      <td>2011.739260</td>\n",
       "      <td>1.862639</td>\n",
       "      <td>2009.000000</td>\n",
       "      <td>2010.000000</td>\n",
       "      <td>2012.000000</td>\n",
       "      <td>2013.000000</td>\n",
       "      <td>2015.000000</td>\n",
       "    </tr>\n",
       "    <tr>\n",
       "      <th>dayofweek</th>\n",
       "      <td>50000.000000</td>\n",
       "      <td>3.029980</td>\n",
       "      <td>1.956936</td>\n",
       "      <td>0.000000</td>\n",
       "      <td>1.000000</td>\n",
       "      <td>3.000000</td>\n",
       "      <td>5.000000</td>\n",
       "      <td>6.000000</td>\n",
       "    </tr>\n",
       "    <tr>\n",
       "      <th>travel_dist_km</th>\n",
       "      <td>50000.000000</td>\n",
       "      <td>18.508946</td>\n",
       "      <td>355.564309</td>\n",
       "      <td>0.000000</td>\n",
       "      <td>1.223146</td>\n",
       "      <td>2.120114</td>\n",
       "      <td>3.895570</td>\n",
       "      <td>8667.818812</td>\n",
       "    </tr>\n",
       "  </tbody>\n",
       "</table>\n",
       "</div>"
      ],
      "text/plain": [
       "                            count        mean        std         min  \\\n",
       "amount               50000.000000   11.364171   9.685557   -5.000000   \n",
       "longitude_of_pickup  50000.000000  -72.509756  10.393860  -75.423848   \n",
       "latitude_of_pickup   50000.000000   39.933759   6.224857  -74.006893   \n",
       "longitude_of_dropoff 50000.000000  -72.504616  10.407570  -84.654241   \n",
       "latitude_of_dropoff  50000.000000   39.926251   6.014737  -74.006377   \n",
       "no_of_passenger      50000.000000    1.667840   1.289195    0.000000   \n",
       "hour                 50000.000000   13.489080   6.506935    0.000000   \n",
       "day                  50000.000000   15.672040   8.660789    1.000000   \n",
       "month                50000.000000    6.273300   3.461157    1.000000   \n",
       "year                 50000.000000 2011.739260   1.862639 2009.000000   \n",
       "dayofweek            50000.000000    3.029980   1.956936    0.000000   \n",
       "travel_dist_km       50000.000000   18.508946 355.564309    0.000000   \n",
       "\n",
       "                             25%         50%         75%         max  \n",
       "amount                  6.000000    8.500000   12.500000  200.000000  \n",
       "longitude_of_pickup   -73.992062  -73.981840  -73.967148   40.783472  \n",
       "latitude_of_pickup     40.734880   40.752678   40.767360  401.083332  \n",
       "longitude_of_dropoff  -73.991152  -73.980082  -73.963584   40.851027  \n",
       "latitude_of_dropoff    40.734371   40.753372   40.768167   43.415190  \n",
       "no_of_passenger         1.000000    1.000000    2.000000    6.000000  \n",
       "hour                    9.000000   14.000000   19.000000   23.000000  \n",
       "day                     8.000000   16.000000   23.000000   31.000000  \n",
       "month                   3.000000    6.000000    9.000000   12.000000  \n",
       "year                 2010.000000 2012.000000 2013.000000 2015.000000  \n",
       "dayofweek               1.000000    3.000000    5.000000    6.000000  \n",
       "travel_dist_km          1.223146    2.120114    3.895570 8667.818812  "
      ]
     },
     "execution_count": 128,
     "metadata": {},
     "output_type": "execute_result"
    }
   ],
   "source": [
    "df_taxi.describe().transpose()"
   ]
  },
  {
   "cell_type": "markdown",
   "metadata": {
    "id": "JfipeDm7VdDo"
   },
   "source": [
    "### Discover Outliers"
   ]
  },
  {
   "cell_type": "code",
   "execution_count": 129,
   "metadata": {
    "collapsed": true,
    "executionInfo": {
     "elapsed": 27,
     "status": "ok",
     "timestamp": 1629528718413,
     "user": {
      "displayName": "Arunkumar Nair",
      "photoUrl": "https://lh3.googleusercontent.com/a-/AOh14GjgmWFCgJdcKJSRtC8oAFcB4vcjJSWC9JIuSLTgGQ=s64",
      "userId": "14175196440623772817"
     },
     "user_tz": -330
    },
    "id": "Rgj7egW1VdDp"
   },
   "outputs": [],
   "source": [
    "df_taxi = df_taxi.loc[(df_taxi.amount >= 2.5)]"
   ]
  },
  {
   "cell_type": "code",
   "execution_count": 130,
   "metadata": {
    "colab": {
     "base_uri": "https://localhost:8080/"
    },
    "executionInfo": {
     "elapsed": 26,
     "status": "ok",
     "timestamp": 1629528718413,
     "user": {
      "displayName": "Arunkumar Nair",
      "photoUrl": "https://lh3.googleusercontent.com/a-/AOh14GjgmWFCgJdcKJSRtC8oAFcB4vcjJSWC9JIuSLTgGQ=s64",
      "userId": "14175196440623772817"
     },
     "user_tz": -330
    },
    "id": "2XxhyTq_VdDp",
    "outputId": "bce900c2-91df-4f74-fc0a-4884d6a8dc96"
   },
   "outputs": [
    {
     "name": "stdout",
     "output_type": "stream",
     "text": [
      "Remaining observastions in the dataset: (49990, 12)\n"
     ]
    }
   ],
   "source": [
    "print(\"Remaining observastions in the dataset:\", df_taxi.shape)"
   ]
  },
  {
   "cell_type": "markdown",
   "metadata": {
    "id": "9cCkk8SnVdDq"
   },
   "source": [
    "Remove the observations with travel distance more than 130 kms.As seen from descriptive stats there are obs with tarvel distance more than 130 km, as that is the limit for trips in and around NYC"
   ]
  },
  {
   "cell_type": "code",
   "execution_count": 131,
   "metadata": {
    "colab": {
     "base_uri": "https://localhost:8080/"
    },
    "executionInfo": {
     "elapsed": 22,
     "status": "ok",
     "timestamp": 1629528718415,
     "user": {
      "displayName": "Arunkumar Nair",
      "photoUrl": "https://lh3.googleusercontent.com/a-/AOh14GjgmWFCgJdcKJSRtC8oAFcB4vcjJSWC9JIuSLTgGQ=s64",
      "userId": "14175196440623772817"
     },
     "user_tz": -330
    },
    "id": "YnV-q0eXVdDr",
    "outputId": "f4ce7f4b-b4c6-4849-f9a6-cb66cf6ce632"
   },
   "outputs": [
    {
     "name": "stdout",
     "output_type": "stream",
     "text": [
      "Remaining observastions in the dataset: (49990, 12)\n"
     ]
    }
   ],
   "source": [
    "#We will only keep the observation where travel distance is less than or equal to 130\n",
    "df_taxi = df_taxi.loc[(df_taxi.travel_dist_km >= 1) | (df_taxi.travel_dist_km <= 130)]\n",
    "print(\"Remaining observastions in the dataset:\", df_taxi.shape)"
   ]
  },
  {
   "cell_type": "markdown",
   "metadata": {
    "id": "VC_XD_nMVdDt"
   },
   "source": [
    "Remove the observations with unreal longitude and latitude values , that is , 90< latitude <-90, 180 < longitude < -180."
   ]
  },
  {
   "cell_type": "code",
   "execution_count": 132,
   "metadata": {
    "collapsed": true,
    "executionInfo": {
     "elapsed": 873,
     "status": "ok",
     "timestamp": 1629528719270,
     "user": {
      "displayName": "Arunkumar Nair",
      "photoUrl": "https://lh3.googleusercontent.com/a-/AOh14GjgmWFCgJdcKJSRtC8oAFcB4vcjJSWC9JIuSLTgGQ=s64",
      "userId": "14175196440623772817"
     },
     "user_tz": -330
    },
    "id": "038kTSUCVdDt"
   },
   "outputs": [],
   "source": [
    "incorrect_coordinates = df_taxi.loc[(df_taxi.latitude_of_pickup > 90) |(df_taxi.latitude_of_pickup < -90) |\n",
    "                                   (df_taxi.latitude_of_dropoff > 90) |(df_taxi.latitude_of_dropoff < -90) |\n",
    "                                   (df_taxi.longitude_of_pickup > 180) |(df_taxi.longitude_of_pickup < -180) |\n",
    "                                   (df_taxi.longitude_of_dropoff > 90) |(df_taxi.longitude_of_dropoff < -90)\n",
    "                                    ].index"
   ]
  },
  {
   "cell_type": "code",
   "execution_count": 133,
   "metadata": {
    "collapsed": true,
    "executionInfo": {
     "elapsed": 12,
     "status": "ok",
     "timestamp": 1629528719270,
     "user": {
      "displayName": "Arunkumar Nair",
      "photoUrl": "https://lh3.googleusercontent.com/a-/AOh14GjgmWFCgJdcKJSRtC8oAFcB4vcjJSWC9JIuSLTgGQ=s64",
      "userId": "14175196440623772817"
     },
     "user_tz": -330
    },
    "id": "xba-TUh1VdDu"
   },
   "outputs": [],
   "source": [
    "df_taxi.drop(incorrect_coordinates, inplace = True, errors = 'ignore')"
   ]
  },
  {
   "cell_type": "code",
   "execution_count": 134,
   "metadata": {
    "colab": {
     "base_uri": "https://localhost:8080/"
    },
    "executionInfo": {
     "elapsed": 11,
     "status": "ok",
     "timestamp": 1629528719271,
     "user": {
      "displayName": "Arunkumar Nair",
      "photoUrl": "https://lh3.googleusercontent.com/a-/AOh14GjgmWFCgJdcKJSRtC8oAFcB4vcjJSWC9JIuSLTgGQ=s64",
      "userId": "14175196440623772817"
     },
     "user_tz": -330
    },
    "id": "PW6HUpqQVdDu",
    "outputId": "979c0287-f45b-4f03-c1ea-4c7f8fb9c53e"
   },
   "outputs": [
    {
     "name": "stdout",
     "output_type": "stream",
     "text": [
      "Remaining observastions in the dataset: (49989, 12)\n"
     ]
    }
   ],
   "source": [
    "print(\"Remaining observastions in the dataset:\", df_taxi.shape)"
   ]
  },
  {
   "cell_type": "markdown",
   "metadata": {
    "id": "nC-jy9D9VdDw"
   },
   "source": [
    "### Missing Values"
   ]
  },
  {
   "cell_type": "code",
   "execution_count": 135,
   "metadata": {
    "colab": {
     "base_uri": "https://localhost:8080/",
     "height": 425
    },
    "executionInfo": {
     "elapsed": 10,
     "status": "ok",
     "timestamp": 1629528719272,
     "user": {
      "displayName": "Arunkumar Nair",
      "photoUrl": "https://lh3.googleusercontent.com/a-/AOh14GjgmWFCgJdcKJSRtC8oAFcB4vcjJSWC9JIuSLTgGQ=s64",
      "userId": "14175196440623772817"
     },
     "user_tz": -330
    },
    "id": "__iXAEQZVdDy",
    "outputId": "e00680de-2157-4118-f92a-f3a552c042ef"
   },
   "outputs": [
    {
     "data": {
      "text/html": [
       "<div>\n",
       "<style scoped>\n",
       "    .dataframe tbody tr th:only-of-type {\n",
       "        vertical-align: middle;\n",
       "    }\n",
       "\n",
       "    .dataframe tbody tr th {\n",
       "        vertical-align: top;\n",
       "    }\n",
       "\n",
       "    .dataframe thead th {\n",
       "        text-align: right;\n",
       "    }\n",
       "</style>\n",
       "<table border=\"1\" class=\"dataframe\">\n",
       "  <thead>\n",
       "    <tr style=\"text-align: right;\">\n",
       "      <th></th>\n",
       "      <th>Total</th>\n",
       "      <th>Percentage of Missing Values</th>\n",
       "      <th>Type</th>\n",
       "    </tr>\n",
       "  </thead>\n",
       "  <tbody>\n",
       "    <tr>\n",
       "      <th>travel_dist_km</th>\n",
       "      <td>0</td>\n",
       "      <td>0.000000</td>\n",
       "      <td>float64</td>\n",
       "    </tr>\n",
       "    <tr>\n",
       "      <th>dayofweek</th>\n",
       "      <td>0</td>\n",
       "      <td>0.000000</td>\n",
       "      <td>int64</td>\n",
       "    </tr>\n",
       "    <tr>\n",
       "      <th>year</th>\n",
       "      <td>0</td>\n",
       "      <td>0.000000</td>\n",
       "      <td>int64</td>\n",
       "    </tr>\n",
       "    <tr>\n",
       "      <th>month</th>\n",
       "      <td>0</td>\n",
       "      <td>0.000000</td>\n",
       "      <td>int64</td>\n",
       "    </tr>\n",
       "    <tr>\n",
       "      <th>day</th>\n",
       "      <td>0</td>\n",
       "      <td>0.000000</td>\n",
       "      <td>int64</td>\n",
       "    </tr>\n",
       "    <tr>\n",
       "      <th>hour</th>\n",
       "      <td>0</td>\n",
       "      <td>0.000000</td>\n",
       "      <td>int64</td>\n",
       "    </tr>\n",
       "    <tr>\n",
       "      <th>no_of_passenger</th>\n",
       "      <td>0</td>\n",
       "      <td>0.000000</td>\n",
       "      <td>int64</td>\n",
       "    </tr>\n",
       "    <tr>\n",
       "      <th>latitude_of_dropoff</th>\n",
       "      <td>0</td>\n",
       "      <td>0.000000</td>\n",
       "      <td>float64</td>\n",
       "    </tr>\n",
       "    <tr>\n",
       "      <th>longitude_of_dropoff</th>\n",
       "      <td>0</td>\n",
       "      <td>0.000000</td>\n",
       "      <td>float64</td>\n",
       "    </tr>\n",
       "    <tr>\n",
       "      <th>latitude_of_pickup</th>\n",
       "      <td>0</td>\n",
       "      <td>0.000000</td>\n",
       "      <td>float64</td>\n",
       "    </tr>\n",
       "    <tr>\n",
       "      <th>longitude_of_pickup</th>\n",
       "      <td>0</td>\n",
       "      <td>0.000000</td>\n",
       "      <td>float64</td>\n",
       "    </tr>\n",
       "    <tr>\n",
       "      <th>amount</th>\n",
       "      <td>0</td>\n",
       "      <td>0.000000</td>\n",
       "      <td>float64</td>\n",
       "    </tr>\n",
       "  </tbody>\n",
       "</table>\n",
       "</div>"
      ],
      "text/plain": [
       "                      Total  Percentage of Missing Values     Type\n",
       "travel_dist_km            0                      0.000000  float64\n",
       "dayofweek                 0                      0.000000    int64\n",
       "year                      0                      0.000000    int64\n",
       "month                     0                      0.000000    int64\n",
       "day                       0                      0.000000    int64\n",
       "hour                      0                      0.000000    int64\n",
       "no_of_passenger           0                      0.000000    int64\n",
       "latitude_of_dropoff       0                      0.000000  float64\n",
       "longitude_of_dropoff      0                      0.000000  float64\n",
       "latitude_of_pickup        0                      0.000000  float64\n",
       "longitude_of_pickup       0                      0.000000  float64\n",
       "amount                    0                      0.000000  float64"
      ]
     },
     "execution_count": 135,
     "metadata": {},
     "output_type": "execute_result"
    }
   ],
   "source": [
    "Total = df_taxi.isnull().sum().sort_values(ascending = False)          \n",
    "Percent = (df_taxi.isnull().sum()*100/df_taxi.isnull().count()).sort_values(ascending = False)   \n",
    "missing_data = pd.concat([Total, Percent], axis = 1, keys = ['Total', 'Percentage of Missing Values'])    \n",
    "missing_data['Type'] = df_taxi[missing_data.index].dtypes\n",
    "missing_data"
   ]
  },
  {
   "cell_type": "markdown",
   "metadata": {
    "id": "uZ1j-kbaVdDz"
   },
   "source": [
    "missing values using heatmap"
   ]
  },
  {
   "cell_type": "code",
   "execution_count": 136,
   "metadata": {
    "colab": {
     "base_uri": "https://localhost:8080/",
     "height": 579
    },
    "executionInfo": {
     "elapsed": 695,
     "status": "ok",
     "timestamp": 1629528719958,
     "user": {
      "displayName": "Arunkumar Nair",
      "photoUrl": "https://lh3.googleusercontent.com/a-/AOh14GjgmWFCgJdcKJSRtC8oAFcB4vcjJSWC9JIuSLTgGQ=s64",
      "userId": "14175196440623772817"
     },
     "user_tz": -330
    },
    "id": "LkWUhLs1VdDz",
    "outputId": "67d60718-684c-4a35-dc8b-a22b62df57b8",
    "scrolled": false
   },
   "outputs": [
    {
     "data": {
      "image/png": "[encoded data removed]",
      "text/plain": [
       "<Figure size 1080x576 with 1 Axes>"
      ]
     },
     "metadata": {
      "needs_background": "light"
     },
     "output_type": "display_data"
    }
   ],
   "source": [
    "sns.heatmap(df_taxi.isnull(), cbar=False)\n",
    "plt.show()"
   ]
  },
  {
   "cell_type": "markdown",
   "metadata": {
    "id": "9Ep0us4gVdD2"
   },
   "source": [
    "# correlation matrix"
   ]
  },
  {
   "cell_type": "code",
   "execution_count": 137,
   "metadata": {
    "colab": {
     "base_uri": "https://localhost:8080/",
     "height": 441
    },
    "executionInfo": {
     "elapsed": 11,
     "status": "ok",
     "timestamp": 1629528719960,
     "user": {
      "displayName": "Arunkumar Nair",
      "photoUrl": "https://lh3.googleusercontent.com/a-/AOh14GjgmWFCgJdcKJSRtC8oAFcB4vcjJSWC9JIuSLTgGQ=s64",
      "userId": "14175196440623772817"
     },
     "user_tz": -330
    },
    "id": "ZU0K8HgLVdD2",
    "outputId": "6161828f-09f5-4e97-811a-f7686db37e98"
   },
   "outputs": [
    {
     "data": {
      "text/html": [
       "<div>\n",
       "<style scoped>\n",
       "    .dataframe tbody tr th:only-of-type {\n",
       "        vertical-align: middle;\n",
       "    }\n",
       "\n",
       "    .dataframe tbody tr th {\n",
       "        vertical-align: top;\n",
       "    }\n",
       "\n",
       "    .dataframe thead th {\n",
       "        text-align: right;\n",
       "    }\n",
       "</style>\n",
       "<table border=\"1\" class=\"dataframe\">\n",
       "  <thead>\n",
       "    <tr style=\"text-align: right;\">\n",
       "      <th></th>\n",
       "      <th>amount</th>\n",
       "      <th>longitude_of_pickup</th>\n",
       "      <th>latitude_of_pickup</th>\n",
       "      <th>longitude_of_dropoff</th>\n",
       "      <th>latitude_of_dropoff</th>\n",
       "      <th>no_of_passenger</th>\n",
       "      <th>hour</th>\n",
       "      <th>day</th>\n",
       "      <th>month</th>\n",
       "      <th>year</th>\n",
       "      <th>dayofweek</th>\n",
       "      <th>travel_dist_km</th>\n",
       "    </tr>\n",
       "  </thead>\n",
       "  <tbody>\n",
       "    <tr>\n",
       "      <th>amount</th>\n",
       "      <td>1.000000</td>\n",
       "      <td>0.005905</td>\n",
       "      <td>-0.006563</td>\n",
       "      <td>0.004452</td>\n",
       "      <td>-0.005600</td>\n",
       "      <td>0.016506</td>\n",
       "      <td>-0.022009</td>\n",
       "      <td>-0.001417</td>\n",
       "      <td>0.026742</td>\n",
       "      <td>0.121081</td>\n",
       "      <td>0.000542</td>\n",
       "      <td>0.016451</td>\n",
       "    </tr>\n",
       "    <tr>\n",
       "      <th>longitude_of_pickup</th>\n",
       "      <td>0.005905</td>\n",
       "      <td>1.000000</td>\n",
       "      <td>-0.984132</td>\n",
       "      <td>0.956613</td>\n",
       "      <td>-0.947401</td>\n",
       "      <td>-0.005614</td>\n",
       "      <td>0.004913</td>\n",
       "      <td>0.006008</td>\n",
       "      <td>0.000402</td>\n",
       "      <td>-0.001264</td>\n",
       "      <td>-0.003224</td>\n",
       "      <td>0.143712</td>\n",
       "    </tr>\n",
       "    <tr>\n",
       "      <th>latitude_of_pickup</th>\n",
       "      <td>-0.006563</td>\n",
       "      <td>-0.984132</td>\n",
       "      <td>1.000000</td>\n",
       "      <td>-0.943741</td>\n",
       "      <td>0.961374</td>\n",
       "      <td>0.003982</td>\n",
       "      <td>-0.004313</td>\n",
       "      <td>-0.008884</td>\n",
       "      <td>0.000498</td>\n",
       "      <td>-0.000925</td>\n",
       "      <td>0.001911</td>\n",
       "      <td>-0.130943</td>\n",
       "    </tr>\n",
       "    <tr>\n",
       "      <th>longitude_of_dropoff</th>\n",
       "      <td>0.004452</td>\n",
       "      <td>0.956613</td>\n",
       "      <td>-0.943741</td>\n",
       "      <td>1.000000</td>\n",
       "      <td>-0.982102</td>\n",
       "      <td>-0.004874</td>\n",
       "      <td>0.005506</td>\n",
       "      <td>0.005221</td>\n",
       "      <td>0.001322</td>\n",
       "      <td>-0.000327</td>\n",
       "      <td>-0.002441</td>\n",
       "      <td>0.143172</td>\n",
       "    </tr>\n",
       "    <tr>\n",
       "      <th>latitude_of_dropoff</th>\n",
       "      <td>-0.005600</td>\n",
       "      <td>-0.947401</td>\n",
       "      <td>0.961374</td>\n",
       "      <td>-0.982102</td>\n",
       "      <td>1.000000</td>\n",
       "      <td>0.002898</td>\n",
       "      <td>-0.004530</td>\n",
       "      <td>-0.008012</td>\n",
       "      <td>-0.000341</td>\n",
       "      <td>-0.001817</td>\n",
       "      <td>0.001626</td>\n",
       "      <td>-0.124844</td>\n",
       "    </tr>\n",
       "    <tr>\n",
       "      <th>no_of_passenger</th>\n",
       "      <td>0.016506</td>\n",
       "      <td>-0.005614</td>\n",
       "      <td>0.003982</td>\n",
       "      <td>-0.004874</td>\n",
       "      <td>0.002898</td>\n",
       "      <td>1.000000</td>\n",
       "      <td>0.011400</td>\n",
       "      <td>0.006787</td>\n",
       "      <td>0.009099</td>\n",
       "      <td>0.006385</td>\n",
       "      <td>0.038581</td>\n",
       "      <td>-0.005371</td>\n",
       "    </tr>\n",
       "    <tr>\n",
       "      <th>hour</th>\n",
       "      <td>-0.022009</td>\n",
       "      <td>0.004913</td>\n",
       "      <td>-0.004313</td>\n",
       "      <td>0.005506</td>\n",
       "      <td>-0.004530</td>\n",
       "      <td>0.011400</td>\n",
       "      <td>1.000000</td>\n",
       "      <td>-0.008192</td>\n",
       "      <td>-0.001916</td>\n",
       "      <td>0.004167</td>\n",
       "      <td>-0.091267</td>\n",
       "      <td>0.000644</td>\n",
       "    </tr>\n",
       "    <tr>\n",
       "      <th>day</th>\n",
       "      <td>-0.001417</td>\n",
       "      <td>0.006008</td>\n",
       "      <td>-0.008884</td>\n",
       "      <td>0.005221</td>\n",
       "      <td>-0.008012</td>\n",
       "      <td>0.006787</td>\n",
       "      <td>-0.008192</td>\n",
       "      <td>1.000000</td>\n",
       "      <td>-0.017266</td>\n",
       "      <td>-0.011155</td>\n",
       "      <td>0.008422</td>\n",
       "      <td>0.010610</td>\n",
       "    </tr>\n",
       "    <tr>\n",
       "      <th>month</th>\n",
       "      <td>0.026742</td>\n",
       "      <td>0.000402</td>\n",
       "      <td>0.000498</td>\n",
       "      <td>0.001322</td>\n",
       "      <td>-0.000341</td>\n",
       "      <td>0.009099</td>\n",
       "      <td>-0.001916</td>\n",
       "      <td>-0.017266</td>\n",
       "      <td>1.000000</td>\n",
       "      <td>-0.115726</td>\n",
       "      <td>-0.010004</td>\n",
       "      <td>-0.009217</td>\n",
       "    </tr>\n",
       "    <tr>\n",
       "      <th>year</th>\n",
       "      <td>0.121081</td>\n",
       "      <td>-0.001264</td>\n",
       "      <td>-0.000925</td>\n",
       "      <td>-0.000327</td>\n",
       "      <td>-0.001817</td>\n",
       "      <td>0.006385</td>\n",
       "      <td>0.004167</td>\n",
       "      <td>-0.011155</td>\n",
       "      <td>-0.115726</td>\n",
       "      <td>1.000000</td>\n",
       "      <td>0.006808</td>\n",
       "      <td>0.022136</td>\n",
       "    </tr>\n",
       "    <tr>\n",
       "      <th>dayofweek</th>\n",
       "      <td>0.000542</td>\n",
       "      <td>-0.003224</td>\n",
       "      <td>0.001911</td>\n",
       "      <td>-0.002441</td>\n",
       "      <td>0.001626</td>\n",
       "      <td>0.038581</td>\n",
       "      <td>-0.091267</td>\n",
       "      <td>0.008422</td>\n",
       "      <td>-0.010004</td>\n",
       "      <td>0.006808</td>\n",
       "      <td>1.000000</td>\n",
       "      <td>-0.000518</td>\n",
       "    </tr>\n",
       "    <tr>\n",
       "      <th>travel_dist_km</th>\n",
       "      <td>0.016451</td>\n",
       "      <td>0.143712</td>\n",
       "      <td>-0.130943</td>\n",
       "      <td>0.143172</td>\n",
       "      <td>-0.124844</td>\n",
       "      <td>-0.005371</td>\n",
       "      <td>0.000644</td>\n",
       "      <td>0.010610</td>\n",
       "      <td>-0.009217</td>\n",
       "      <td>0.022136</td>\n",
       "      <td>-0.000518</td>\n",
       "      <td>1.000000</td>\n",
       "    </tr>\n",
       "  </tbody>\n",
       "</table>\n",
       "</div>"
      ],
      "text/plain": [
       "                        amount  longitude_of_pickup  latitude_of_pickup  \\\n",
       "amount                1.000000             0.005905           -0.006563   \n",
       "longitude_of_pickup   0.005905             1.000000           -0.984132   \n",
       "latitude_of_pickup   -0.006563            -0.984132            1.000000   \n",
       "longitude_of_dropoff  0.004452             0.956613           -0.943741   \n",
       "latitude_of_dropoff  -0.005600            -0.947401            0.961374   \n",
       "no_of_passenger       0.016506            -0.005614            0.003982   \n",
       "hour                 -0.022009             0.004913           -0.004313   \n",
       "day                  -0.001417             0.006008           -0.008884   \n",
       "month                 0.026742             0.000402            0.000498   \n",
       "year                  0.121081            -0.001264           -0.000925   \n",
       "dayofweek             0.000542            -0.003224            0.001911   \n",
       "travel_dist_km        0.016451             0.143712           -0.130943   \n",
       "\n",
       "                      longitude_of_dropoff  latitude_of_dropoff  \\\n",
       "amount                            0.004452            -0.005600   \n",
       "longitude_of_pickup               0.956613            -0.947401   \n",
       "latitude_of_pickup               -0.943741             0.961374   \n",
       "longitude_of_dropoff              1.000000            -0.982102   \n",
       "latitude_of_dropoff              -0.982102             1.000000   \n",
       "no_of_passenger                  -0.004874             0.002898   \n",
       "hour                              0.005506            -0.004530   \n",
       "day                               0.005221            -0.008012   \n",
       "month                             0.001322            -0.000341   \n",
       "year                             -0.000327            -0.001817   \n",
       "dayofweek                        -0.002441             0.001626   \n",
       "travel_dist_km                    0.143172            -0.124844   \n",
       "\n",
       "                      no_of_passenger      hour       day     month      year  \\\n",
       "amount                       0.016506 -0.022009 -0.001417  0.026742  0.121081   \n",
       "longitude_of_pickup         -0.005614  0.004913  0.006008  0.000402 -0.001264   \n",
       "latitude_of_pickup           0.003982 -0.004313 -0.008884  0.000498 -0.000925   \n",
       "longitude_of_dropoff        -0.004874  0.005506  0.005221  0.001322 -0.000327   \n",
       "latitude_of_dropoff          0.002898 -0.004530 -0.008012 -0.000341 -0.001817   \n",
       "no_of_passenger              1.000000  0.011400  0.006787  0.009099  0.006385   \n",
       "hour                         0.011400  1.000000 -0.008192 -0.001916  0.004167   \n",
       "day                          0.006787 -0.008192  1.000000 -0.017266 -0.011155   \n",
       "month                        0.009099 -0.001916 -0.017266  1.000000 -0.115726   \n",
       "year                         0.006385  0.004167 -0.011155 -0.115726  1.000000   \n",
       "dayofweek                    0.038581 -0.091267  0.008422 -0.010004  0.006808   \n",
       "travel_dist_km              -0.005371  0.000644  0.010610 -0.009217  0.022136   \n",
       "\n",
       "                      dayofweek  travel_dist_km  \n",
       "amount                 0.000542        0.016451  \n",
       "longitude_of_pickup   -0.003224        0.143712  \n",
       "latitude_of_pickup     0.001911       -0.130943  \n",
       "longitude_of_dropoff  -0.002441        0.143172  \n",
       "latitude_of_dropoff    0.001626       -0.124844  \n",
       "no_of_passenger        0.038581       -0.005371  \n",
       "hour                  -0.091267        0.000644  \n",
       "day                    0.008422        0.010610  \n",
       "month                 -0.010004       -0.009217  \n",
       "year                   0.006808        0.022136  \n",
       "dayofweek              1.000000       -0.000518  \n",
       "travel_dist_km        -0.000518        1.000000  "
      ]
     },
     "execution_count": 137,
     "metadata": {},
     "output_type": "execute_result"
    }
   ],
   "source": [
    "corr = df_taxi.corr()\n",
    "corr"
   ]
  },
  {
   "cell_type": "code",
   "execution_count": 138,
   "metadata": {
    "colab": {
     "base_uri": "https://localhost:8080/",
     "height": 693
    },
    "executionInfo": {
     "elapsed": 1841,
     "status": "ok",
     "timestamp": 1629528721792,
     "user": {
      "displayName": "Arunkumar Nair",
      "photoUrl": "https://lh3.googleusercontent.com/a-/AOh14GjgmWFCgJdcKJSRtC8oAFcB4vcjJSWC9JIuSLTgGQ=s64",
      "userId": "14175196440623772817"
     },
     "user_tz": -330
    },
    "id": "X0QFhMKDVdD4",
    "outputId": "df8c0cee-1c5d-4511-d2b4-a70eb9b765e3",
    "scrolled": false
   },
   "outputs": [
    {
     "data": {
      "image/png": "[encoded data removed]",
      "text/plain": [
       "<Figure size 2880x1440 with 2 Axes>"
      ]
     },
     "metadata": {
      "needs_background": "light"
     },
     "output_type": "display_data"
    }
   ],
   "source": [
    "plt.figure(figsize = (40,20))\n",
    "mask = np.zeros_like(corr)\n",
    "mask[np.tril_indices_from(mask, k = -1)] = True\n",
    "sns.heatmap(corr, cmap = 'RdYlGn', vmax = 1.0, vmin = -1.0, annot = True, annot_kws = {\"size\": 20}, mask = mask)\n",
    "plt.xticks(fontsize = 12)\n",
    "plt.yticks(fontsize = 15)\n",
    "\n",
    "plt.show()"
   ]
  },
  {
   "cell_type": "markdown",
   "metadata": {
    "id": "vx0D9z0vVdD5"
   },
   "source": [
    "Heatmap that consider the variables with strong correlation."
   ]
  },
  {
   "cell_type": "code",
   "execution_count": 139,
   "metadata": {
    "colab": {
     "base_uri": "https://localhost:8080/",
     "height": 572
    },
    "executionInfo": {
     "elapsed": 1251,
     "status": "ok",
     "timestamp": 1629528723038,
     "user": {
      "displayName": "Arunkumar Nair",
      "photoUrl": "https://lh3.googleusercontent.com/a-/AOh14GjgmWFCgJdcKJSRtC8oAFcB4vcjJSWC9JIuSLTgGQ=s64",
      "userId": "14175196440623772817"
     },
     "user_tz": -330
    },
    "id": "3D_6m5NrVdD5",
    "outputId": "8291ec19-e4df-4c98-942a-1e7f871fb43b"
   },
   "outputs": [
    {
     "data": {
      "image/png": "[encoded data removed]",
      "text/plain": [
       "<Figure size 3600x1440 with 2 Axes>"
      ]
     },
     "metadata": {
      "needs_background": "light"
     },
     "output_type": "display_data"
    }
   ],
   "source": [
    "plt.figure(figsize=(50, 20))\n",
    "sns.heatmap(corr[(corr >= 0.7) | (corr <= -0.7)], cmap = 'RdYlGn', vmax = 1.0, vmin = -1.0, annot = True, annot_kws={\"size\": 20})\n",
    "plt.xticks(fontsize = 15)\n",
    "plt.yticks(fontsize = 15)\n",
    "\n",
    "plt.show()"
   ]
  },
  {
   "cell_type": "markdown",
   "metadata": {
    "id": "qjuXijCHVdD8"
   },
   "source": [
    "## Exploratory Data Analysis"
   ]
  },
  {
   "cell_type": "markdown",
   "metadata": {
    "id": "6XLcsbAHVdD8"
   },
   "source": [
    "### Peak hours"
   ]
  },
  {
   "cell_type": "markdown",
   "metadata": {
    "id": "M9m-46tuVdD8"
   },
   "source": [
    "# We will check for the business during the weekdays and weekends."
   ]
  },
  {
   "cell_type": "code",
   "execution_count": 140,
   "metadata": {
    "colab": {
     "base_uri": "https://localhost:8080/",
     "height": 367
    },
    "executionInfo": {
     "elapsed": 24,
     "status": "ok",
     "timestamp": 1629528723040,
     "user": {
      "displayName": "Arunkumar Nair",
      "photoUrl": "https://lh3.googleusercontent.com/a-/AOh14GjgmWFCgJdcKJSRtC8oAFcB4vcjJSWC9JIuSLTgGQ=s64",
      "userId": "14175196440623772817"
     },
     "user_tz": -330
    },
    "id": "3xSdWpvyVdD-",
    "outputId": "f564ce12-989a-493b-8b04-603108a5eb2f"
   },
   "outputs": [
    {
     "data": {
      "text/plain": [
       "<matplotlib.axes._subplots.AxesSubplot at 0x7fa75fed0250>"
      ]
     },
     "execution_count": 140,
     "metadata": {},
     "output_type": "execute_result"
    },
    {
     "data": {
      "image/png": "[encoded data removed]",
      "text/plain": [
       "<Figure size 1440x360 with 1 Axes>"
      ]
     },
     "metadata": {
      "needs_background": "light"
     },
     "output_type": "display_data"
    }
   ],
   "source": [
    "plt.figure(figsize=(20,5))\n",
    "plt.title('Taxi trips count during week days')\n",
    "sns.set_style(\"white\")\n",
    "\n",
    "sns.countplot(x='hour', data=df_taxi.loc[(df_taxi.dayofweek >= 0) & (df_taxi.dayofweek <=4)], palette='Set2')"
   ]
  },
  {
   "cell_type": "markdown",
   "metadata": {
    "id": "TskIoyNdVdD_"
   },
   "source": [
    "We see that during the weekdays the count of trips start to peak from 8 am and is highest at 9am. In the evening the peak is at 6pm and 7pm."
   ]
  },
  {
   "cell_type": "markdown",
   "metadata": {
    "id": "wrtHfA-bVdD_"
   },
   "source": [
    "# Plot a countplot to check the peak hours during weekends"
   ]
  },
  {
   "cell_type": "code",
   "execution_count": 141,
   "metadata": {
    "colab": {
     "base_uri": "https://localhost:8080/",
     "height": 367
    },
    "executionInfo": {
     "elapsed": 1182,
     "status": "ok",
     "timestamp": 1629528724208,
     "user": {
      "displayName": "Arunkumar Nair",
      "photoUrl": "https://lh3.googleusercontent.com/a-/AOh14GjgmWFCgJdcKJSRtC8oAFcB4vcjJSWC9JIuSLTgGQ=s64",
      "userId": "14175196440623772817"
     },
     "user_tz": -330
    },
    "id": "OCuWJwIYVdD_",
    "outputId": "e2e46216-d270-4117-80fb-e2322b274931"
   },
   "outputs": [
    {
     "data": {
      "text/plain": [
       "<matplotlib.axes._subplots.AxesSubplot at 0x7fa75fde8050>"
      ]
     },
     "execution_count": 141,
     "metadata": {},
     "output_type": "execute_result"
    },
    {
     "data": {
      "image/png": "[encoded data removed]",
      "text/plain": [
       "<Figure size 1440x360 with 1 Axes>"
      ]
     },
     "metadata": {},
     "output_type": "display_data"
    }
   ],
   "source": [
    "# Set the figure size, grid type and color palette along with appropraite titel for the plot\n",
    "plt.figure(figsize=(20,5))\n",
    "plt.title('Taxi trips count during week ends')\n",
    "sns.set_style(\"white\")\n",
    "#plot the countplot for weekends\n",
    "sns.countplot(x='hour', data=df_taxi.loc[(df_taxi.dayofweek >= 5) & (df_taxi.dayofweek <=6)], palette='Set2')"
   ]
  },
  {
   "cell_type": "markdown",
   "metadata": {
    "id": "-cTwrj83VdEA"
   },
   "source": [
    "We see that during the weekends the count of trips is high after 12 midnight to 3am to 4am. This pattern is different from the weekdays. In the evening the demand is almost evenly high after 6pm till late night except."
   ]
  },
  {
   "cell_type": "markdown",
   "metadata": {
    "id": "QivzpH84VdEB"
   },
   "source": [
    "### Mean fare for each hour during weekdays and weekends"
   ]
  },
  {
   "cell_type": "markdown",
   "metadata": {
    "id": "N-bSXkgdVdEB"
   },
   "source": [
    "We will check the mean fares for each hour during the weekdays and weekends."
   ]
  },
  {
   "cell_type": "markdown",
   "metadata": {
    "id": "VlPpI4vAVdEC"
   },
   "source": [
    "**1. Compute the hourly mean fare for weekdays and weekends**"
   ]
  },
  {
   "cell_type": "code",
   "execution_count": 142,
   "metadata": {
    "collapsed": true,
    "executionInfo": {
     "elapsed": 14,
     "status": "ok",
     "timestamp": 1629528724210,
     "user": {
      "displayName": "Arunkumar Nair",
      "photoUrl": "https://lh3.googleusercontent.com/a-/AOh14GjgmWFCgJdcKJSRtC8oAFcB4vcjJSWC9JIuSLTgGQ=s64",
      "userId": "14175196440623772817"
     },
     "user_tz": -330
    },
    "id": "ypG-Lg8qVdED"
   },
   "outputs": [],
   "source": [
    "week_days = df_taxi.loc[(df_taxi.dayofweek >= 0) & (df_taxi.dayofweek <= 4)]\n",
    "week_ends = df_taxi.loc[(df_taxi.dayofweek >= 5) & (df_taxi.dayofweek <= 6)]\n",
    "\n",
    "week_days_fare = week_days.groupby(['hour']).amount.mean().to_frame().reset_index()\n",
    "week_ends_fare = week_ends.groupby(['hour']).amount.mean().to_frame().reset_index()"
   ]
  },
  {
   "cell_type": "markdown",
   "metadata": {
    "id": "V-pbiEIoVdED"
   },
   "source": [
    "**2. Plot the mean fare**"
   ]
  },
  {
   "cell_type": "code",
   "execution_count": 143,
   "metadata": {
    "colab": {
     "base_uri": "https://localhost:8080/",
     "height": 621
    },
    "executionInfo": {
     "elapsed": 13,
     "status": "ok",
     "timestamp": 1629528724211,
     "user": {
      "displayName": "Arunkumar Nair",
      "photoUrl": "https://lh3.googleusercontent.com/a-/AOh14GjgmWFCgJdcKJSRtC8oAFcB4vcjJSWC9JIuSLTgGQ=s64",
      "userId": "14175196440623772817"
     },
     "user_tz": -330
    },
    "id": "0ADcxpR8VdEE",
    "outputId": "9c1b9a71-553e-4633-c7d7-3ae73691dc88"
   },
   "outputs": [
    {
     "data": {
      "image/png": "[encoded data removed]",
      "text/plain": [
       "<Figure size 1440x720 with 1 Axes>"
      ]
     },
     "metadata": {},
     "output_type": "display_data"
    }
   ],
   "source": [
    "x = np.array(week_days_fare.hour)\n",
    "y = np.array(week_days_fare.amount)\n",
    "z = np.array(week_ends_fare.amount)\n",
    "\n",
    "#Set the figure size, title, x and y labels\n",
    "plt.figure(figsize = (20,10))\n",
    "plt.title('Mean Fare Amont For Each Hour - Weekdays Vs Weekends')\n",
    "plt.xlabel('Hours')\n",
    "plt.ylabel('Mean Fare')\n",
    "\n",
    "ax=plt.subplot(1,1,1)\n",
    "ax.bar(x-0.2, y, width=0.2, color='red', align='center', label = 'Week days')\n",
    "ax.bar(x, z, width=0.2, color='blue', align='center', label = 'Week ends')\n",
    "plt.xticks(range(0,24))\n",
    "plt.legend()\n",
    "plt.show()\n"
   ]
  },
  {
   "cell_type": "markdown",
   "metadata": {
    "id": "4SD-aoyxVdEF"
   },
   "source": [
    "We notice that the mean fares for each hour are different for week days and week ends. Mean fare for weekdays during morning hours 6,7 and 8 is lmuch ess compared to weekends."
   ]
  },
  {
   "cell_type": "markdown",
   "metadata": {
    "id": "ZnJhM5TNVdEF"
   },
   "source": [
    "### Distribution of key numerical vairables"
   ]
  },
  {
   "cell_type": "markdown",
   "metadata": {
    "id": "er0eOzVzVdEG"
   },
   "source": [
    "**1. Distribution of fare 'amount'**"
   ]
  },
  {
   "cell_type": "code",
   "execution_count": 144,
   "metadata": {
    "colab": {
     "base_uri": "https://localhost:8080/",
     "height": 621
    },
    "executionInfo": {
     "elapsed": 1349,
     "status": "ok",
     "timestamp": 1629528725550,
     "user": {
      "displayName": "Arunkumar Nair",
      "photoUrl": "https://lh3.googleusercontent.com/a-/AOh14GjgmWFCgJdcKJSRtC8oAFcB4vcjJSWC9JIuSLTgGQ=s64",
      "userId": "14175196440623772817"
     },
     "user_tz": -330
    },
    "id": "Y-8bpsPbVdEH",
    "outputId": "cd8dfd6b-4a4f-4c54-9d90-5d4516e8f991"
   },
   "outputs": [
    {
     "data": {
      "image/png": "[encoded data removed]",
      "text/plain": [
       "<Figure size 1440x720 with 1 Axes>"
      ]
     },
     "metadata": {},
     "output_type": "display_data"
    }
   ],
   "source": [
    "plt.figure(figsize=(20,10))\n",
    "sns.set_style(\"darkgrid\")\n",
    "plt.title(\"Distribution of the fare amount\")\n",
    "plt.xlabel(\"Fare Amount\")\n",
    "plt.ylabel(\"Frequency\")\n",
    "plt.xlim(-10,20)\n",
    "plt.xticks(range(0,200,5))\n",
    "\n",
    "snsplot = sns.kdeplot(df_taxi.amount, shade=True)\n"
   ]
  },
  {
   "cell_type": "markdown",
   "metadata": {
    "id": "wtpDKjLeVdEH"
   },
   "source": [
    "We can see that most the trips have a fare amount of 2 to 20 dollars. There are a few small peaks around 50 and 58 dollars as well."
   ]
  },
  {
   "cell_type": "markdown",
   "metadata": {
    "id": "i0uYz3aHVdEI"
   },
   "source": [
    "**2. Distribustion of the travel distance in km**"
   ]
  },
  {
   "cell_type": "code",
   "execution_count": 145,
   "metadata": {
    "colab": {
     "base_uri": "https://localhost:8080/",
     "height": 621
    },
    "executionInfo": {
     "elapsed": 28,
     "status": "ok",
     "timestamp": 1629528725552,
     "user": {
      "displayName": "Arunkumar Nair",
      "photoUrl": "https://lh3.googleusercontent.com/a-/AOh14GjgmWFCgJdcKJSRtC8oAFcB4vcjJSWC9JIuSLTgGQ=s64",
      "userId": "14175196440623772817"
     },
     "user_tz": -330
    },
    "id": "YrmfylL6VdEI",
    "outputId": "a38d8295-a171-4870-ad23-90ec1a1ad630"
   },
   "outputs": [
    {
     "data": {
      "image/png": "[encoded data removed]",
      "text/plain": [
       "<Figure size 1440x720 with 1 Axes>"
      ]
     },
     "metadata": {},
     "output_type": "display_data"
    }
   ],
   "source": [
    "plt.figure(figsize = (20,10))\n",
    "sns.style = ('darkgrid')\n",
    "plt.title(\"Distribution of the trip distance\")\n",
    "plt.xlabel(\"Distance(Km)\")\n",
    "plt.ylabel(\"Frequency\")\n",
    "plt.xlim(-10, 200)\n",
    "plt.xticks(range(0,200,5))\n",
    "\n",
    "sns.plot = sns.kdeplot(df_taxi[df_taxi.travel_dist_km<600].travel_dist_km, shade=True)"
   ]
  },
  {
   "cell_type": "markdown",
   "metadata": {
    "id": "_hZU5q4YVdEJ"
   },
   "source": [
    "We can see that most the trips have a travel distance of 2.5 km to 25 km. There are a few instances of 0 km as well."
   ]
  },
  {
   "cell_type": "markdown",
   "metadata": {
    "id": "Vh9YEUksVdEK"
   },
   "source": [
    "# Random Forest"
   ]
  },
  {
   "cell_type": "code",
   "execution_count": 146,
   "metadata": {
    "collapsed": true,
    "executionInfo": {
     "elapsed": 26,
     "status": "ok",
     "timestamp": 1629528725553,
     "user": {
      "displayName": "Arunkumar Nair",
      "photoUrl": "https://lh3.googleusercontent.com/a-/AOh14GjgmWFCgJdcKJSRtC8oAFcB4vcjJSWC9JIuSLTgGQ=s64",
      "userId": "14175196440623772817"
     },
     "user_tz": -330
    },
    "id": "QM8YrGYSVdEN"
   },
   "outputs": [],
   "source": [
    "y = pd.DataFrame(df_taxi['amount'])"
   ]
  },
  {
   "cell_type": "markdown",
   "metadata": {
    "id": "ERSBHr1yVdEN"
   },
   "source": [
    "Now, use this 'y' as a target variable to build the classification models."
   ]
  },
  {
   "cell_type": "code",
   "execution_count": 147,
   "metadata": {
    "collapsed": true,
    "executionInfo": {
     "elapsed": 27,
     "status": "ok",
     "timestamp": 1629528725554,
     "user": {
      "displayName": "Arunkumar Nair",
      "photoUrl": "https://lh3.googleusercontent.com/a-/AOh14GjgmWFCgJdcKJSRtC8oAFcB4vcjJSWC9JIuSLTgGQ=s64",
      "userId": "14175196440623772817"
     },
     "user_tz": -330
    },
    "id": "bpL0JAe_VdEO"
   },
   "outputs": [],
   "source": [
    "X = df_taxi.drop('amount',axis = 1)"
   ]
  },
  {
   "cell_type": "code",
   "execution_count": 148,
   "metadata": {
    "colab": {
     "base_uri": "https://localhost:8080/",
     "height": 204
    },
    "executionInfo": {
     "elapsed": 28,
     "status": "ok",
     "timestamp": 1629528725556,
     "user": {
      "displayName": "Arunkumar Nair",
      "photoUrl": "https://lh3.googleusercontent.com/a-/AOh14GjgmWFCgJdcKJSRtC8oAFcB4vcjJSWC9JIuSLTgGQ=s64",
      "userId": "14175196440623772817"
     },
     "user_tz": -330
    },
    "id": "nXKqEgj0VdEO",
    "outputId": "9c403969-579e-4457-dabb-02cde246623a",
    "scrolled": true
   },
   "outputs": [
    {
     "data": {
      "text/html": [
       "<div>\n",
       "<style scoped>\n",
       "    .dataframe tbody tr th:only-of-type {\n",
       "        vertical-align: middle;\n",
       "    }\n",
       "\n",
       "    .dataframe tbody tr th {\n",
       "        vertical-align: top;\n",
       "    }\n",
       "\n",
       "    .dataframe thead th {\n",
       "        text-align: right;\n",
       "    }\n",
       "</style>\n",
       "<table border=\"1\" class=\"dataframe\">\n",
       "  <thead>\n",
       "    <tr style=\"text-align: right;\">\n",
       "      <th></th>\n",
       "      <th>longitude_of_pickup</th>\n",
       "      <th>latitude_of_pickup</th>\n",
       "      <th>longitude_of_dropoff</th>\n",
       "      <th>latitude_of_dropoff</th>\n",
       "      <th>no_of_passenger</th>\n",
       "      <th>hour</th>\n",
       "      <th>day</th>\n",
       "      <th>month</th>\n",
       "      <th>year</th>\n",
       "      <th>dayofweek</th>\n",
       "      <th>travel_dist_km</th>\n",
       "    </tr>\n",
       "  </thead>\n",
       "  <tbody>\n",
       "    <tr>\n",
       "      <th>0</th>\n",
       "      <td>-73.844311</td>\n",
       "      <td>40.721319</td>\n",
       "      <td>-73.841610</td>\n",
       "      <td>40.712278</td>\n",
       "      <td>1</td>\n",
       "      <td>17</td>\n",
       "      <td>15</td>\n",
       "      <td>6</td>\n",
       "      <td>2009</td>\n",
       "      <td>0</td>\n",
       "      <td>1.030764</td>\n",
       "    </tr>\n",
       "    <tr>\n",
       "      <th>1</th>\n",
       "      <td>-74.016048</td>\n",
       "      <td>40.711303</td>\n",
       "      <td>-73.979268</td>\n",
       "      <td>40.782004</td>\n",
       "      <td>1</td>\n",
       "      <td>16</td>\n",
       "      <td>5</td>\n",
       "      <td>1</td>\n",
       "      <td>2010</td>\n",
       "      <td>1</td>\n",
       "      <td>8.450134</td>\n",
       "    </tr>\n",
       "    <tr>\n",
       "      <th>2</th>\n",
       "      <td>-73.982738</td>\n",
       "      <td>40.761270</td>\n",
       "      <td>-73.991242</td>\n",
       "      <td>40.750562</td>\n",
       "      <td>2</td>\n",
       "      <td>0</td>\n",
       "      <td>18</td>\n",
       "      <td>8</td>\n",
       "      <td>2011</td>\n",
       "      <td>3</td>\n",
       "      <td>1.389525</td>\n",
       "    </tr>\n",
       "    <tr>\n",
       "      <th>3</th>\n",
       "      <td>-73.987130</td>\n",
       "      <td>40.733143</td>\n",
       "      <td>-73.991567</td>\n",
       "      <td>40.758092</td>\n",
       "      <td>1</td>\n",
       "      <td>4</td>\n",
       "      <td>21</td>\n",
       "      <td>4</td>\n",
       "      <td>2012</td>\n",
       "      <td>5</td>\n",
       "      <td>2.799270</td>\n",
       "    </tr>\n",
       "    <tr>\n",
       "      <th>4</th>\n",
       "      <td>-73.968095</td>\n",
       "      <td>40.768008</td>\n",
       "      <td>-73.956655</td>\n",
       "      <td>40.783762</td>\n",
       "      <td>1</td>\n",
       "      <td>7</td>\n",
       "      <td>9</td>\n",
       "      <td>3</td>\n",
       "      <td>2010</td>\n",
       "      <td>1</td>\n",
       "      <td>1.999157</td>\n",
       "    </tr>\n",
       "  </tbody>\n",
       "</table>\n",
       "</div>"
      ],
      "text/plain": [
       "   longitude_of_pickup  latitude_of_pickup  longitude_of_dropoff  \\\n",
       "0           -73.844311           40.721319            -73.841610   \n",
       "1           -74.016048           40.711303            -73.979268   \n",
       "2           -73.982738           40.761270            -73.991242   \n",
       "3           -73.987130           40.733143            -73.991567   \n",
       "4           -73.968095           40.768008            -73.956655   \n",
       "\n",
       "   latitude_of_dropoff  no_of_passenger  hour  day  month  year  dayofweek  \\\n",
       "0            40.712278                1    17   15      6  2009          0   \n",
       "1            40.782004                1    16    5      1  2010          1   \n",
       "2            40.750562                2     0   18      8  2011          3   \n",
       "3            40.758092                1     4   21      4  2012          5   \n",
       "4            40.783762                1     7    9      3  2010          1   \n",
       "\n",
       "   travel_dist_km  \n",
       "0        1.030764  \n",
       "1        8.450134  \n",
       "2        1.389525  \n",
       "3        2.799270  \n",
       "4        1.999157  "
      ]
     },
     "execution_count": 148,
     "metadata": {},
     "output_type": "execute_result"
    }
   ],
   "source": [
    "X.head()"
   ]
  },
  {
   "cell_type": "markdown",
   "metadata": {
    "id": "-rwD281VVdEP"
   },
   "source": [
    "Use this 'X' as a set of predictors to build the model."
   ]
  },
  {
   "cell_type": "markdown",
   "metadata": {
    "id": "Ss69lEkCVdEP"
   },
   "source": [
    "**2. Split the data into training and test sets**"
   ]
  },
  {
   "cell_type": "code",
   "execution_count": 149,
   "metadata": {
    "colab": {
     "base_uri": "https://localhost:8080/"
    },
    "executionInfo": {
     "elapsed": 27,
     "status": "ok",
     "timestamp": 1629528725557,
     "user": {
      "displayName": "Arunkumar Nair",
      "photoUrl": "https://lh3.googleusercontent.com/a-/AOh14GjgmWFCgJdcKJSRtC8oAFcB4vcjJSWC9JIuSLTgGQ=s64",
      "userId": "14175196440623772817"
     },
     "user_tz": -330
    },
    "id": "U0eYPKDzVdEQ",
    "outputId": "0c73e60e-99ea-4bde-b961-d17a47676967"
   },
   "outputs": [
    {
     "name": "stdout",
     "output_type": "stream",
     "text": [
      "The shape of X_train is: (34992, 11)\n",
      "The shape of X_test is: (14997, 11)\n",
      "The shape of y_train is: (34992, 1)\n",
      "The shape of y_test is: (14997, 1)\n"
     ]
    }
   ],
   "source": [
    "X_train, X_test, y_train, y_test = train_test_split(X, y, test_size = 0.3, random_state = 1)\n",
    "\n",
    "print(\"The shape of X_train is:\",X_train.shape)\n",
    "print(\"The shape of X_test is:\",X_test.shape)\n",
    "print(\"The shape of y_train is:\",y_train.shape)\n",
    "print(\"The shape of y_test is:\",y_test.shape)"
   ]
  },
  {
   "cell_type": "markdown",
   "metadata": {
    "id": "ZIDJx6-hVdEQ"
   },
   "source": [
    "**3. Build model using RandomForestRegressor**"
   ]
  },
  {
   "cell_type": "code",
   "execution_count": 150,
   "metadata": {
    "colab": {
     "base_uri": "https://localhost:8080/"
    },
    "executionInfo": {
     "elapsed": 30777,
     "status": "ok",
     "timestamp": 1629528756315,
     "user": {
      "displayName": "Arunkumar Nair",
      "photoUrl": "https://lh3.googleusercontent.com/a-/AOh14GjgmWFCgJdcKJSRtC8oAFcB4vcjJSWC9JIuSLTgGQ=s64",
      "userId": "14175196440623772817"
     },
     "user_tz": -330
    },
    "id": "cwYEs4ImVdER",
    "outputId": "2497c10b-f1aa-42e6-e22a-3497673aafe1",
    "scrolled": true
   },
   "outputs": [
    {
     "data": {
      "text/plain": [
       "RandomForestRegressor(bootstrap=True, ccp_alpha=0.0, criterion='mse',\n",
       "                      max_depth=None, max_features='auto', max_leaf_nodes=None,\n",
       "                      max_samples=None, min_impurity_decrease=0.0,\n",
       "                      min_impurity_split=None, min_samples_leaf=1,\n",
       "                      min_samples_split=2, min_weight_fraction_leaf=0.0,\n",
       "                      n_estimators=100, n_jobs=None, oob_score=False,\n",
       "                      random_state=10, verbose=0, warm_start=False)"
      ]
     },
     "execution_count": 150,
     "metadata": {},
     "output_type": "execute_result"
    }
   ],
   "source": [
    "#intantiate the regressor\n",
    "rf_reg = RandomForestRegressor(n_estimators=100, random_state=10)\n",
    "\n",
    "# fit the regressor with training dataset\n",
    "rf_reg.fit(X_train, y_train)"
   ]
  },
  {
   "cell_type": "markdown",
   "metadata": {
    "id": "JguzAwTCVdER"
   },
   "source": [
    "**4. Predict the values using test set**"
   ]
  },
  {
   "cell_type": "code",
   "execution_count": 151,
   "metadata": {
    "collapsed": true,
    "executionInfo": {
     "elapsed": 719,
     "status": "ok",
     "timestamp": 1629528757022,
     "user": {
      "displayName": "Arunkumar Nair",
      "photoUrl": "https://lh3.googleusercontent.com/a-/AOh14GjgmWFCgJdcKJSRtC8oAFcB4vcjJSWC9JIuSLTgGQ=s64",
      "userId": "14175196440623772817"
     },
     "user_tz": -330
    },
    "id": "B22FfxoRVdES"
   },
   "outputs": [],
   "source": [
    "# predict the values on test dataset using predict()\n",
    "y_pred = rf_reg.predict(X_test)"
   ]
  },
  {
   "cell_type": "markdown",
   "metadata": {
    "id": "oxnG2tcOVdES"
   },
   "source": [
    "**5. Compute accuracy measures**\n",
    "\n",
    "Now we calculate accuray measures Root-mean-square-error (RMSE), R-squared and Adjusted R-squared."
   ]
  },
  {
   "cell_type": "code",
   "execution_count": 165,
   "metadata": {
    "colab": {
     "base_uri": "https://localhost:8080/"
    },
    "executionInfo": {
     "elapsed": 361,
     "status": "ok",
     "timestamp": 1629533424075,
     "user": {
      "displayName": "Arunkumar Nair",
      "photoUrl": "https://lh3.googleusercontent.com/a-/AOh14GjgmWFCgJdcKJSRtC8oAFcB4vcjJSWC9JIuSLTgGQ=s64",
      "userId": "14175196440623772817"
     },
     "user_tz": -330
    },
    "id": "DlVcsoiGVdET",
    "outputId": "9332e5de-1bcc-404c-b369-5372ff38b7f8"
   },
   "outputs": [
    {
     "name": "stdout",
     "output_type": "stream",
     "text": [
      "R2 (Rsquare): 0.7873578745191259\n",
      "Mean Absolute Error (MAE): 2.109603728699712\n",
      "Mean Squared Error (MSE): 19.970499194879483\n",
      "Root Mean Squared Error (RMSE): 4.468836447541964\n"
     ]
    }
   ],
   "source": [
    "rf_reg_r2score = metrics.r2_score(y_test, y_pred)\n",
    "print('R2 (Rsquare):', rf_reg_r2score)\n",
    "\n",
    "\n",
    "rf_reg_MAE = metrics.mean_absolute_error(y_test, y_pred)\n",
    "print('Mean Absolute Error (MAE):', rf_reg_MAE)\n",
    "\n",
    "#MSE\n",
    "rf_reg_MSE = metrics.mean_squared_error(y_test, y_pred)\n",
    "print('Mean Squared Error (MSE):', rf_reg_MSE)\n",
    "\n",
    "#RMSE\n",
    "rf_reg_RMSE = np.sqrt(metrics.mean_squared_error(y_test, y_pred))\n",
    "print('Root Mean Squared Error (RMSE):', rf_reg_RMSE)"
   ]
  },
  {
   "cell_type": "markdown",
   "metadata": {
    "id": "vRAhPEBuVdET"
   },
   "source": [
    "**6. Tabulate the results**"
   ]
  },
  {
   "cell_type": "code",
   "execution_count": 166,
   "metadata": {
    "colab": {
     "base_uri": "https://localhost:8080/",
     "height": 80
    },
    "executionInfo": {
     "elapsed": 495,
     "status": "ok",
     "timestamp": 1629533433361,
     "user": {
      "displayName": "Arunkumar Nair",
      "photoUrl": "https://lh3.googleusercontent.com/a-/AOh14GjgmWFCgJdcKJSRtC8oAFcB4vcjJSWC9JIuSLTgGQ=s64",
      "userId": "14175196440623772817"
     },
     "user_tz": -330
    },
    "id": "GJLaQMXaVdEU",
    "outputId": "8645db0a-68bb-43be-806f-b20b66ade70a"
   },
   "outputs": [
    {
     "data": {
      "text/html": [
       "<div>\n",
       "<style scoped>\n",
       "    .dataframe tbody tr th:only-of-type {\n",
       "        vertical-align: middle;\n",
       "    }\n",
       "\n",
       "    .dataframe tbody tr th {\n",
       "        vertical-align: top;\n",
       "    }\n",
       "\n",
       "    .dataframe thead th {\n",
       "        text-align: right;\n",
       "    }\n",
       "</style>\n",
       "<table border=\"1\" class=\"dataframe\">\n",
       "  <thead>\n",
       "    <tr style=\"text-align: right;\">\n",
       "      <th></th>\n",
       "      <th>Model</th>\n",
       "      <th>R2</th>\n",
       "      <th>MAE</th>\n",
       "      <th>MSE</th>\n",
       "      <th>RMSE</th>\n",
       "    </tr>\n",
       "  </thead>\n",
       "  <tbody>\n",
       "    <tr>\n",
       "      <th>0</th>\n",
       "      <td>Random Forest</td>\n",
       "      <td>0.787358</td>\n",
       "      <td>2.109604</td>\n",
       "      <td>19.970499</td>\n",
       "      <td>4.468836</td>\n",
       "    </tr>\n",
       "  </tbody>\n",
       "</table>\n",
       "</div>"
      ],
      "text/plain": [
       "            Model       R2      MAE       MSE     RMSE\n",
       "0  Random Forest  0.787358 2.109604 19.970499 4.468836"
      ]
     },
     "execution_count": 166,
     "metadata": {},
     "output_type": "execute_result"
    }
   ],
   "source": [
    "cols = ['Model', 'R2','MAE', 'MSE', 'RMSE']\n",
    "result_tabulation = pd.DataFrame(columns = cols)\n",
    "\n",
    "rf_reg_metrics = pd.Series({'Model': \"Random Forest \",\n",
    "                     'R2' :rf_reg_r2score,        \n",
    "                     'MAE':rf_reg_MAE,\n",
    "                     'MSE': rf_reg_MSE,\n",
    "                     'RMSE': rf_reg_RMSE     \n",
    "                   })\n",
    "\n",
    "result_tabulation = result_tabulation.append(rf_reg_metrics, ignore_index = True)\n",
    "\n",
    "result_tabulation"
   ]
  },
  {
   "cell_type": "markdown",
   "metadata": {
    "id": "kLjVpepPVdEV"
   },
   "source": [
    "\n",
    "## Random Forest with GridSearchCV"
   ]
  },
  {
   "cell_type": "markdown",
   "metadata": {
    "id": "DmrveFJIVdEW"
   },
   "source": [
    "**1. GridSearch to obtain the optimal values of hyperparameters**"
   ]
  },
  {
   "cell_type": "code",
   "execution_count": 167,
   "metadata": {
    "collapsed": true,
    "executionInfo": {
     "elapsed": 497,
     "status": "ok",
     "timestamp": 1629533815924,
     "user": {
      "displayName": "Arunkumar Nair",
      "photoUrl": "https://lh3.googleusercontent.com/a-/AOh14GjgmWFCgJdcKJSRtC8oAFcB4vcjJSWC9JIuSLTgGQ=s64",
      "userId": "14175196440623772817"
     },
     "user_tz": -330
    },
    "id": "hO8GSkbjVdEX"
   },
   "outputs": [],
   "source": [
    "tuned_paramaters = [{'n_estimators': [ 85, 100],\n",
    "                     'min_samples_split': [15,20],\n",
    "                     'max_depth': [8, 10]\n",
    "                     #'min_samples_leaf': [5,10],\n",
    "                     #'max_leaf_nodes': [10, 15]\n",
    "                    }]"
   ]
  },
  {
   "cell_type": "code",
   "execution_count": 168,
   "metadata": {
    "colab": {
     "base_uri": "https://localhost:8080/"
    },
    "executionInfo": {
     "elapsed": 333320,
     "status": "ok",
     "timestamp": 1629534150018,
     "user": {
      "displayName": "Arunkumar Nair",
      "photoUrl": "https://lh3.googleusercontent.com/a-/AOh14GjgmWFCgJdcKJSRtC8oAFcB4vcjJSWC9JIuSLTgGQ=s64",
      "userId": "14175196440623772817"
     },
     "user_tz": -330
    },
    "id": "6JbfgGMlVdEX",
    "outputId": "a17c539a-bcbc-4075-9d5c-e306c49e9c90"
   },
   "outputs": [
    {
     "name": "stdout",
     "output_type": "stream",
     "text": [
      "Best parameters for random forest regressor:  {'max_depth': 10, 'min_samples_split': 20, 'n_estimators': 100} \n",
      "\n"
     ]
    }
   ],
   "source": [
    "rf_reg_CV= RandomForestRegressor(random_state = 10)\n",
    "\n",
    "grid = GridSearchCV(estimator = rf_reg_CV, \n",
    "                    param_grid = tuned_paramaters, cv = 4)\n",
    "\n",
    "dt_grid = grid.fit(X_train, y_train)\n",
    "print('Best parameters for random forest regressor: ', dt_grid.best_params_, '\\n')"
   ]
  },
  {
   "cell_type": "markdown",
   "metadata": {
    "id": "Ny-zWQelVdEY"
   },
   "source": [
    "**2. Build the model using the hyperparameters obtained in step 1**"
   ]
  },
  {
   "cell_type": "code",
   "execution_count": 169,
   "metadata": {
    "collapsed": true,
    "executionInfo": {
     "elapsed": 15255,
     "status": "ok",
     "timestamp": 1629534165265,
     "user": {
      "displayName": "Arunkumar Nair",
      "photoUrl": "https://lh3.googleusercontent.com/a-/AOh14GjgmWFCgJdcKJSRtC8oAFcB4vcjJSWC9JIuSLTgGQ=s64",
      "userId": "14175196440623772817"
     },
     "user_tz": -330
    },
    "id": "7VjaqvjcVdEY"
   },
   "outputs": [],
   "source": [
    "dt_grid_model = RandomForestRegressor(n_estimators = dt_grid.best_params_.get('n_estimators'),\n",
    "                                       max_depth = dt_grid.best_params_.get('max_depth'),\n",
    "                                       min_samples_split = dt_grid.best_params_.get('min_samples_split'),\n",
    "                                       random_state = 10)\n",
    "\n",
    "dt_grid_model = dt_grid_model.fit(X_train, y_train)"
   ]
  },
  {
   "cell_type": "markdown",
   "metadata": {
    "id": "HTRVF4v5VdEZ"
   },
   "source": [
    "**3. Predict the values using test set**"
   ]
  },
  {
   "cell_type": "code",
   "execution_count": 170,
   "metadata": {
    "collapsed": true,
    "executionInfo": {
     "elapsed": 14,
     "status": "ok",
     "timestamp": 1629534165268,
     "user": {
      "displayName": "Arunkumar Nair",
      "photoUrl": "https://lh3.googleusercontent.com/a-/AOh14GjgmWFCgJdcKJSRtC8oAFcB4vcjJSWC9JIuSLTgGQ=s64",
      "userId": "14175196440623772817"
     },
     "user_tz": -330
    },
    "id": "tBWFUTLbVdEZ"
   },
   "outputs": [],
   "source": [
    "y_pred = dt_grid_model.predict(X_test)"
   ]
  },
  {
   "cell_type": "markdown",
   "metadata": {
    "id": "kXITlYGaVdEa"
   },
   "source": [
    "**4. Compute accuracy measures**\n",
    "\n",
    "Now we calculate accuray measures Root-mean-square-error (RMSE), R-squared and Adjusted R-squared."
   ]
  },
  {
   "cell_type": "code",
   "execution_count": 171,
   "metadata": {
    "colab": {
     "base_uri": "https://localhost:8080/"
    },
    "executionInfo": {
     "elapsed": 13,
     "status": "ok",
     "timestamp": 1629534165268,
     "user": {
      "displayName": "Arunkumar Nair",
      "photoUrl": "https://lh3.googleusercontent.com/a-/AOh14GjgmWFCgJdcKJSRtC8oAFcB4vcjJSWC9JIuSLTgGQ=s64",
      "userId": "14175196440623772817"
     },
     "user_tz": -330
    },
    "id": "WHff4hhhVdEa",
    "outputId": "869242df-f6f7-432b-fdc2-49b48b196ce7"
   },
   "outputs": [
    {
     "name": "stdout",
     "output_type": "stream",
     "text": [
      "R2Score (R2): 0.7873578745191259\n",
      "Mean Absolute Error (MAE): 2.109603728699712\n",
      "Mean Squared Error (MSE): 19.970499194879483\n",
      "Root Mean Squared Error (RMSE): 4.468836447541964\n"
     ]
    }
   ],
   "source": [
    "# R2\n",
    "rf_reg_CV_R2 = metrics.r2_score(y_test, y_pred)\n",
    "print('R2Score (R2):', rf_reg_CV_R2)\n",
    "\n",
    "\n",
    "# MAE\n",
    "rf_reg_CV_MAE = metrics.mean_absolute_error(y_test, y_pred)\n",
    "print('Mean Absolute Error (MAE):', rf_reg_CV_MAE)\n",
    "                                         \n",
    "# MSE\n",
    "rf_reg_CV_MSE = metrics.mean_squared_error(y_test, y_pred)\n",
    "print('Mean Squared Error (MSE):', rf_reg_CV_MSE)\n",
    "                                         \n",
    "# RMSE\n",
    "rf_reg_CV_RMSE = np.sqrt(metrics.mean_squared_error(y_test, y_pred))\n",
    "print('Root Mean Squared Error (RMSE):', rf_reg_CV_RMSE)"
   ]
  },
  {
   "cell_type": "markdown",
   "metadata": {
    "id": "Vm3yGR6bVdEb"
   },
   "source": [
    "**5. Final results**"
   ]
  },
  {
   "cell_type": "code",
   "execution_count": 172,
   "metadata": {
    "colab": {
     "base_uri": "https://localhost:8080/",
     "height": 111
    },
    "executionInfo": {
     "elapsed": 12,
     "status": "ok",
     "timestamp": 1629534165268,
     "user": {
      "displayName": "Arunkumar Nair",
      "photoUrl": "https://lh3.googleusercontent.com/a-/AOh14GjgmWFCgJdcKJSRtC8oAFcB4vcjJSWC9JIuSLTgGQ=s64",
      "userId": "14175196440623772817"
     },
     "user_tz": -330
    },
    "id": "4u5Gt__CVdEb",
    "outputId": "e042ec14-ba64-409a-d7b5-d1f130b22efa"
   },
   "outputs": [
    {
     "data": {
      "text/html": [
       "<div>\n",
       "<style scoped>\n",
       "    .dataframe tbody tr th:only-of-type {\n",
       "        vertical-align: middle;\n",
       "    }\n",
       "\n",
       "    .dataframe tbody tr th {\n",
       "        vertical-align: top;\n",
       "    }\n",
       "\n",
       "    .dataframe thead th {\n",
       "        text-align: right;\n",
       "    }\n",
       "</style>\n",
       "<table border=\"1\" class=\"dataframe\">\n",
       "  <thead>\n",
       "    <tr style=\"text-align: right;\">\n",
       "      <th></th>\n",
       "      <th>Model</th>\n",
       "      <th>R2</th>\n",
       "      <th>MAE</th>\n",
       "      <th>MSE</th>\n",
       "      <th>RMSE</th>\n",
       "    </tr>\n",
       "  </thead>\n",
       "  <tbody>\n",
       "    <tr>\n",
       "      <th>0</th>\n",
       "      <td>Random Forest</td>\n",
       "      <td>0.787358</td>\n",
       "      <td>2.109604</td>\n",
       "      <td>19.970499</td>\n",
       "      <td>4.468836</td>\n",
       "    </tr>\n",
       "    <tr>\n",
       "      <th>1</th>\n",
       "      <td>Random Forest GridSearch_CV</td>\n",
       "      <td>0.787358</td>\n",
       "      <td>2.109604</td>\n",
       "      <td>19.970499</td>\n",
       "      <td>4.468836</td>\n",
       "    </tr>\n",
       "  </tbody>\n",
       "</table>\n",
       "</div>"
      ],
      "text/plain": [
       "                          Model       R2      MAE       MSE     RMSE\n",
       "0                Random Forest  0.787358 2.109604 19.970499 4.468836\n",
       "1  Random Forest GridSearch_CV  0.787358 2.109604 19.970499 4.468836"
      ]
     },
     "execution_count": 172,
     "metadata": {},
     "output_type": "execute_result"
    }
   ],
   "source": [
    "rf_reg_metrics = pd.Series({'Model': \"Random Forest GridSearch_CV \",\n",
    "                      'R2': rf_reg_CV_R2,       \n",
    "                     'MAE':rf_reg_CV_MAE,\n",
    "                     'MSE': rf_reg_CV_MSE,\n",
    "                     'RMSE': rf_reg_CV_RMSE     \n",
    "                   })\n",
    "result_tabulation = result_tabulation.append(rf_reg_metrics, ignore_index = True)\n",
    "\n",
    "result_tabulation"
   ]
  }
 ],
 "metadata": {
  "colab": {
   "name": "Taxi Fare Prediction.ipynb",
   "provenance": []
  },
  "kernelspec": {
   "display_name": "Python 3 (ipykernel)",
   "language": "python",
   "name": "python3"
  },
  "language_info": {
   "codemirror_mode": {
    "name": "ipython",
    "version": 3
   },
   "file_extension": ".py",
   "mimetype": "text/x-python",
   "name": "python",
   "nbconvert_exporter": "python",
   "pygments_lexer": "ipython3",
   "version": "3.9.7"
  }
 },
 "nbformat": 4,
 "nbformat_minor": 1
}
